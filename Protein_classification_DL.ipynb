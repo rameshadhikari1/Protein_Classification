{
 "cells": [
  {
   "cell_type": "code",
   "execution_count": 0,
   "metadata": {
    "colab": {
     "base_uri": "https://localhost:8080/",
     "height": 34
    },
    "colab_type": "code",
    "id": "bHZYmx-fUXS2",
    "outputId": "a4dc7600-179d-4293-f053-710f5480c5d6"
   },
   "outputs": [
    {
     "name": "stdout",
     "output_type": "stream",
     "text": [
      "TensorFlow 2.x selected.\n"
     ]
    }
   ],
   "source": [
    "%tensorflow_version 2.x\n"
   ]
  },
  {
   "cell_type": "code",
   "execution_count": 0,
   "metadata": {
    "colab": {
     "base_uri": "https://localhost:8080/",
     "height": 51
    },
    "colab_type": "code",
    "id": "0WdvjwDE11mB",
    "outputId": "9c6b3384-0e04-43a9-de44-a99c961dc65f"
   },
   "outputs": [
    {
     "name": "stdout",
     "output_type": "stream",
     "text": [
      "2.2.5\n",
      "2.1.0\n"
     ]
    }
   ],
   "source": [
    "import tensorflow as tf\n",
    "import keras\n",
    "print(keras.__version__)\n",
    "print(tf.__version__)"
   ]
  },
  {
   "cell_type": "code",
   "execution_count": 0,
   "metadata": {
    "colab": {},
    "colab_type": "code",
    "id": "naxUfOaSu12R"
   },
   "outputs": [],
   "source": [
    "import numpy as np\n",
    "import pandas as pd\n",
    "import seaborn as sns\n",
    "import matplotlib.pyplot as plt\n",
    "\n",
    "sns.set_style('whitegrid')\n",
    "%matplotlib inline"
   ]
  },
  {
   "cell_type": "markdown",
   "metadata": {
    "colab_type": "text",
    "id": "_psVxzEuz7AP"
   },
   "source": [
    "# Loading data files"
   ]
  },
  {
   "cell_type": "code",
   "execution_count": 0,
   "metadata": {
    "colab": {},
    "colab_type": "code",
    "id": "E0Ywl4Gb2nxO"
   },
   "outputs": [],
   "source": [
    "from google.colab import drive\n",
    "drive.mount('/content/drive')"
   ]
  },
  {
   "cell_type": "code",
   "execution_count": 0,
   "metadata": {
    "colab": {},
    "colab_type": "code",
    "id": "dIHoc8k6vo7o"
   },
   "outputs": [],
   "source": [
    "import os"
   ]
  },
  {
   "cell_type": "code",
   "execution_count": 0,
   "metadata": {
    "colab": {},
    "colab_type": "code",
    "id": "WTpF6Q3kv01x"
   },
   "outputs": [],
   "source": [
    "path_to_data = 'drive/My Drive/Colab Notebooks/'"
   ]
  },
  {
   "cell_type": "code",
   "execution_count": null,
   "metadata": {
    "colab": {
     "base_uri": "https://localhost:8080/",
     "height": 54
    },
    "colab_type": "code",
    "id": "YJvAVXjhv2QR",
    "outputId": "6c7c3c9d-bca1-44f8-c9ca-1d15f31a9738"
   },
   "outputs": [],
   "source": [
    "print(os.listdir(path_to_data))"
   ]
  },
  {
   "cell_type": "code",
   "execution_count": 0,
   "metadata": {
    "colab": {},
    "colab_type": "code",
    "id": "_E3CXz5d5rBn"
   },
   "outputs": [],
   "source": [
    "df_read = pd.read_csv(os.path.join(path_to_data, 'protein_seq-cls.csv'), index_col=0)\n",
    "df_read.drop_duplicates(subset='sequence', inplace=True)"
   ]
  },
  {
   "cell_type": "code",
   "execution_count": 0,
   "metadata": {
    "colab": {},
    "colab_type": "code",
    "id": "jvl6K8edeaXd"
   },
   "outputs": [],
   "source": [
    "dfp = pd.read_csv(os.path.join(path_to_data,'protein_cls.csv'),\n",
    "                  index_col=0).reset_index(drop=True)"
   ]
  },
  {
   "cell_type": "code",
   "execution_count": 0,
   "metadata": {
    "colab": {
     "base_uri": "https://localhost:8080/",
     "height": 54
    },
    "colab_type": "code",
    "id": "RYwknahy9vS5",
    "outputId": "49fe3764-f3cb-4ece-a53c-d1f64fed66ea"
   },
   "outputs": [
    {
     "data": {
      "text/plain": [
       "'TYTTRQIGAKNTLEYKVYIEKDGKPVSAFHDIPLYADKENNIFNMVVEIPRWTNAKLEITKEETLNPIIQDTKKGKLRFVRNCFPHHGYIHNYGAFPQTWEDPNVSHPETKAVGDNEPIDVLEIGETIAYTGQVKQVKALGIMALLDEGETDWKVIAIDINDPLAPKLNDIEDVEKYFPGLLRATNEWFRIYKIPDGKPENQFAFSGEAKNKKYALDIIKETHDSWKQLIAGKSSDSKGIDLTNVTLPDTPTYSKAASDAIPPASLKADAPIDKSIDKWFFISGSV'"
      ]
     },
     "execution_count": 11,
     "metadata": {
      "tags": []
     },
     "output_type": "execute_result"
    }
   ],
   "source": [
    "df_read[df_read['classification'] == 'hydrolase']['sequence'].values[0]"
   ]
  },
  {
   "cell_type": "code",
   "execution_count": 0,
   "metadata": {
    "colab": {
     "base_uri": "https://localhost:8080/",
     "height": 238
    },
    "colab_type": "code",
    "id": "I4Em1DC9eeMu",
    "outputId": "0d4c5721-f902-4488-8564-0efaf22585ef"
   },
   "outputs": [
    {
     "data": {
      "text/plain": [
       "structureId                 74988\n",
       "classification               1613\n",
       "experimentalTechnique          22\n",
       "residueCount                 3517\n",
       "resolution                    537\n",
       "structureMolecularWeight    74177\n",
       "densityMatthews               619\n",
       "densityPercentSol            5373\n",
       "phValue                       302\n",
       "sequence                    86469\n",
       "label                        1613\n",
       "lengths                      1306\n",
       "dtype: int64"
      ]
     },
     "execution_count": 12,
     "metadata": {
      "tags": []
     },
     "output_type": "execute_result"
    }
   ],
   "source": [
    "dfp.nunique()"
   ]
  },
  {
   "cell_type": "code",
   "execution_count": 0,
   "metadata": {
    "colab": {},
    "colab_type": "code",
    "id": "NWZWL6-JfgBB"
   },
   "outputs": [],
   "source": [
    "cols = list(df_read.columns)"
   ]
  },
  {
   "cell_type": "code",
   "execution_count": 0,
   "metadata": {
    "colab": {},
    "colab_type": "code",
    "id": "YAxH_5-BfSKO"
   },
   "outputs": [],
   "source": [
    "df_merge = df_read.merge(dfp, on=['sequence', 'lengths', 'label', 'classification'], how='outer')"
   ]
  },
  {
   "cell_type": "code",
   "execution_count": 0,
   "metadata": {
    "colab": {
     "base_uri": "https://localhost:8080/",
     "height": 255
    },
    "colab_type": "code",
    "id": "ABe85p_-g9xp",
    "outputId": "58e977fd-b49f-4941-cb38-9dbaccde4adc"
   },
   "outputs": [
    {
     "data": {
      "text/plain": [
       "structureId_x               75006\n",
       "classification               1613\n",
       "sequence                    86690\n",
       "lengths                      1307\n",
       "label                        1613\n",
       "structureId_y               74988\n",
       "experimentalTechnique          22\n",
       "residueCount                 3517\n",
       "resolution                    537\n",
       "structureMolecularWeight    74177\n",
       "densityMatthews               619\n",
       "densityPercentSol            5373\n",
       "phValue                       302\n",
       "dtype: int64"
      ]
     },
     "execution_count": 15,
     "metadata": {
      "tags": []
     },
     "output_type": "execute_result"
    }
   ],
   "source": [
    "df_merge.nunique()"
   ]
  },
  {
   "cell_type": "code",
   "execution_count": 0,
   "metadata": {
    "colab": {
     "base_uri": "https://localhost:8080/",
     "height": 306
    },
    "colab_type": "code",
    "id": "5LD4u9DtflPo",
    "outputId": "0ff82f7e-b4f5-468d-db21-cb158206eddb"
   },
   "outputs": [
    {
     "name": "stdout",
     "output_type": "stream",
     "text": [
      "<class 'pandas.core.frame.DataFrame'>\n",
      "Int64Index: 86690 entries, 0 to 87069\n",
      "Data columns (total 12 columns):\n",
      "structureId_x               86690 non-null object\n",
      "sequence                    86690 non-null object\n",
      "lengths                     86690 non-null int64\n",
      "label                       86690 non-null int64\n",
      "structureId_y               77522 non-null object\n",
      "experimentalTechnique       77522 non-null object\n",
      "residueCount                77522 non-null float64\n",
      "resolution                  77522 non-null float64\n",
      "structureMolecularWeight    77522 non-null float64\n",
      "densityMatthews             77522 non-null float64\n",
      "densityPercentSol           77522 non-null float64\n",
      "phValue                     77522 non-null float64\n",
      "dtypes: float64(6), int64(2), object(4)\n",
      "memory usage: 8.6+ MB\n"
     ]
    }
   ],
   "source": [
    "df_merge.drop_duplicates(subset='sequence', inplace=True)\n",
    "df_merge1 = df_merge.groupby('classification').ffill()\n",
    "df_merge1.info()"
   ]
  },
  {
   "cell_type": "code",
   "execution_count": 0,
   "metadata": {
    "colab": {
     "base_uri": "https://localhost:8080/",
     "height": 306
    },
    "colab_type": "code",
    "id": "NrmaDeqvf9tN",
    "outputId": "eaeb8095-9aac-4107-f6e5-da7926e95d62"
   },
   "outputs": [
    {
     "name": "stdout",
     "output_type": "stream",
     "text": [
      "<class 'pandas.core.frame.DataFrame'>\n",
      "Int64Index: 86690 entries, 0 to 87069\n",
      "Data columns (total 12 columns):\n",
      "structureId_x               86690 non-null object\n",
      "sequence                    86690 non-null object\n",
      "lengths                     86690 non-null int64\n",
      "label                       86690 non-null int64\n",
      "structureId_y               86690 non-null object\n",
      "experimentalTechnique       86690 non-null object\n",
      "residueCount                86690 non-null float64\n",
      "resolution                  86690 non-null float64\n",
      "structureMolecularWeight    86690 non-null float64\n",
      "densityMatthews             86690 non-null float64\n",
      "densityPercentSol           86690 non-null float64\n",
      "phValue                     86690 non-null float64\n",
      "dtypes: float64(6), int64(2), object(4)\n",
      "memory usage: 8.6+ MB\n"
     ]
    }
   ],
   "source": [
    "df_merge2 = df_merge1.fillna(0)\n",
    "df_merge2.info()"
   ]
  },
  {
   "cell_type": "code",
   "execution_count": 0,
   "metadata": {
    "colab": {
     "base_uri": "https://localhost:8080/",
     "height": 368
    },
    "colab_type": "code",
    "id": "p0JUKVXVOSrB",
    "outputId": "eb173620-4e6d-4884-eb05-da0d14d7e9fc"
   },
   "outputs": [
    {
     "data": {
      "image/png": "[encoded data removed]",
      "text/plain": [
       "<Figure size 576x360 with 1 Axes>"
      ]
     },
     "metadata": {
      "tags": []
     },
     "output_type": "display_data"
    }
   ],
   "source": [
    "classes = df_merge.label.value_counts()\n",
    "plt.figure(figsize=(8, 5))\n",
    "classes[:20].plot(kind='bar')\n",
    "plt.yscale('log')\n",
    "plt.ylabel('Frequency', fontsize=16)\n",
    "plt.xlabel('Class-Labels', fontsize=16)\n",
    "plt.xticks(fontsize=14)\n",
    "plt.yticks(fontsize=14)\n",
    "plt.title('Class frequency', fontsize=20)\n",
    "plt.show()"
   ]
  },
  {
   "cell_type": "code",
   "execution_count": 0,
   "metadata": {
    "colab": {
     "base_uri": "https://localhost:8080/",
     "height": 303
    },
    "colab_type": "code",
    "id": "nQxL6DMTu13S",
    "outputId": "d21d5c36-feb1-47d8-fc89-041ddadcf55f"
   },
   "outputs": [
    {
     "data": {
      "image/png": "[encoded data removed]",
      "text/plain": [
       "<Figure size 432x288 with 1 Axes>"
      ]
     },
     "metadata": {
      "tags": []
     },
     "output_type": "display_data"
    }
   ],
   "source": [
    "df_merge2.hist('lengths', bins=200)\n",
    "plt.xlabel('Sequence Lengths', fontsize=14)\n",
    "plt.ylabel('Frequency', fontsize=14)\n",
    "plt.xlim(0, 1200)\n",
    "plt.xticks(fontsize=14)\n",
    "plt.yticks(fontsize=14)\n",
    "plt.title('Distribution of sequnece length')\n",
    "plt.show()"
   ]
  },
  {
   "cell_type": "code",
   "execution_count": 0,
   "metadata": {
    "colab": {},
    "colab_type": "code",
    "id": "6tmGxsvnAkMG",
    "scrolled": true
   },
   "outputs": [],
   "source": [
    "# Distribution of length shows that only small fraction of \n",
    "# total samples fall in the tail with longer than 800\n",
    "# So, we select samples with shorter than 800\n",
    "max_length = 1200\n",
    "min_length = 2\n",
    "df0 = df_merge2[(df_merge2['lengths'] >= min_length) & \n",
    "               (df_merge2['lengths'] <= max_length)]"
   ]
  },
  {
   "cell_type": "code",
   "execution_count": 0,
   "metadata": {
    "colab": {
     "base_uri": "https://localhost:8080/",
     "height": 289
    },
    "colab_type": "code",
    "id": "d6KZQSY4dksr",
    "outputId": "1f2beab0-9ce3-486c-db60-e8ecfa6fed01"
   },
   "outputs": [
    {
     "name": "stdout",
     "output_type": "stream",
     "text": [
      "Total classes:  15\n"
     ]
    },
    {
     "data": {
      "text/plain": [
       "{'hydrolase': 1,\n",
       " 'hydrolase/hydrolase inhibitor': 13,\n",
       " 'immune system': 4,\n",
       " 'isomerase': 12,\n",
       " 'ligase': 14,\n",
       " 'lyase': 6,\n",
       " 'membrane protein': 15,\n",
       " 'oxidoreductase': 3,\n",
       " 'protein binding': 10,\n",
       " 'signaling protein': 7,\n",
       " 'structural genomics/unknown function': 8,\n",
       " 'transcription': 5,\n",
       " 'transferase': 2,\n",
       " 'transport protein': 9,\n",
       " 'viral protein': 11}"
      ]
     },
     "execution_count": 21,
     "metadata": {
      "tags": []
     },
     "output_type": "execute_result"
    }
   ],
   "source": [
    "name_classes = df_merge.classification.value_counts()\n",
    "class_dictionary = dict()\n",
    "counting = 0\n",
    "contents = 1200 # Disregard the samples belonging to the \n",
    "                # family with total members less than 'contents'\n",
    "\n",
    "for cat, num in name_classes.items():\n",
    "    if num > contents:\n",
    "      counting += 1\n",
    "      class_dictionary[cat] = counting\n",
    "\n",
    "class_dimension = len(class_dictionary)\n",
    "print('Total classes: ', class_dimension)\n",
    "class_dictionary"
   ]
  },
  {
   "cell_type": "code",
   "execution_count": 0,
   "metadata": {
    "colab": {
     "base_uri": "https://localhost:8080/",
     "height": 51
    },
    "colab_type": "code",
    "id": "lGhyOHKpj48z",
    "outputId": "b52343f6-6fe6-43bc-b93e-58b9736dfa31"
   },
   "outputs": [
    {
     "name": "stdout",
     "output_type": "stream",
     "text": [
      "0.31%\n",
      "Samples left:  86425\n"
     ]
    }
   ],
   "source": [
    "\n",
    "# Data left by discarding the samples longer than max_lengths and \n",
    "# shorter than min_lengths\n",
    "print(str(round(100 * (len(df_merge2) - \\\n",
    "                       len(df0)) / len(df_merge2), 2))+'%')\n",
    "print('Samples left: ', len(df0))"
   ]
  },
  {
   "cell_type": "markdown",
   "metadata": {
    "colab_type": "text",
    "id": "qwXtRn0Du13U"
   },
   "source": [
    "# Data Preprocessing\n"
   ]
  },
  {
   "cell_type": "code",
   "execution_count": 0,
   "metadata": {
    "colab": {},
    "colab_type": "code",
    "id": "ddgRWgUAu13U"
   },
   "outputs": [],
   "source": [
    "from keras.preprocessing import text, sequence\n",
    "from keras.preprocessing.text import Tokenizer\n",
    "from keras.utils import to_categorical\n",
    "from keras.utils import plot_model\n",
    "from sklearn.model_selection import train_test_split\n",
    "from sklearn.feature_extraction.text import TfidfVectorizer, CountVectorizer\n",
    "from sklearn.feature_extraction.text import TfidfTransformer\n"
   ]
  },
  {
   "cell_type": "code",
   "execution_count": 0,
   "metadata": {
    "colab": {
     "base_uri": "https://localhost:8080/",
     "height": 34
    },
    "colab_type": "code",
    "id": "wvS4rXRGu13W",
    "outputId": "5539444e-dbaf-4355-e907-abba38e015a7"
   },
   "outputs": [
    {
     "name": "stdout",
     "output_type": "stream",
     "text": [
      "Total classes:  15\n"
     ]
    }
   ],
   "source": [
    "# Constructing the dictionary of protein superfamily classes and \n",
    "# total number of samples belonging to those classes\n",
    "class_d = dict()\n",
    "counting = 0\n",
    "contents = 1200 # Disregard the samples belonging to the \n",
    "                # family with total members less than 'contents'\n",
    "\n",
    "for cat, num in classes.items():\n",
    "    if num > contents:\n",
    "      counting += 1\n",
    "      class_d[cat] = counting\n",
    "\n",
    "class_dim = len(class_d)\n",
    "print('Total classes: ', class_dim)"
   ]
  },
  {
   "cell_type": "code",
   "execution_count": 0,
   "metadata": {
    "colab": {
     "base_uri": "https://localhost:8080/",
     "height": 34
    },
    "colab_type": "code",
    "id": "ofI4K_1--6G6",
    "outputId": "b53af3f2-9991-417a-9bd8-3c67eabe31b3"
   },
   "outputs": [
    {
     "data": {
      "text/plain": [
       "[3]"
      ]
     },
     "execution_count": 25,
     "metadata": {
      "tags": []
     },
     "output_type": "execute_result"
    }
   ],
   "source": [
    "[i for i, j in class_d.items() if j == 4]"
   ]
  },
  {
   "cell_type": "code",
   "execution_count": 0,
   "metadata": {
    "colab": {
     "base_uri": "https://localhost:8080/",
     "height": 68
    },
    "colab_type": "code",
    "id": "O864-YEzu13Z",
    "outputId": "51e2cc1e-c582-4f4c-94e1-59204fcffa9a"
   },
   "outputs": [
    {
     "name": "stdout",
     "output_type": "stream",
     "text": [
      "Total Classes:  15 \n",
      "Classes:\n",
      "  [ 0  1  2  3  4  5  6  7  8  9 10 11 12 13 14]\n"
     ]
    }
   ],
   "source": [
    "# List the selected classes:\n",
    "top_classes = class_d.keys()\n",
    "print('Total Classes: ', len(top_classes),\n",
    "      '\\nClasses:\\n ', np.array(list(top_classes)))"
   ]
  },
  {
   "cell_type": "code",
   "execution_count": 0,
   "metadata": {
    "colab": {
     "base_uri": "https://localhost:8080/",
     "height": 51
    },
    "colab_type": "code",
    "id": "EvTCK57uu13a",
    "outputId": "89d603f9-b875-4dcb-c6d5-527d41f09285"
   },
   "outputs": [
    {
     "name": "stdout",
     "output_type": "stream",
     "text": [
      "38.14%\n"
     ]
    },
    {
     "data": {
      "text/plain": [
       "53462"
      ]
     },
     "execution_count": 27,
     "metadata": {
      "tags": []
     },
     "output_type": "execute_result"
    }
   ],
   "source": [
    "# Data left by discarding the samples associated with certain families\n",
    "\n",
    "df = df0[df0.label.isin(top_classes)].copy()\n",
    "print(str(round((100 * (len(df0) - len(df))/len(df0)), 2))+'%')\n",
    "len(df)"
   ]
  },
  {
   "cell_type": "markdown",
   "metadata": {
    "colab_type": "text",
    "id": "m9-NqaYnsQMq"
   },
   "source": [
    "#### n-gram vectorization:\n",
    "##### Tfidf vectorizer: <br> \n",
    "This vectorizer will convert the sequence into the vector of size equal to the size of the total 3-gram combination of 25 alphabets. This will create the featrue vectors of length equal to the total number of trigrams. Each letter in the sequence is replaced by the normalized frequency of the respective trigram made by adjacent letters.\n"
   ]
  },
  {
   "cell_type": "code",
   "execution_count": 0,
   "metadata": {
    "colab": {},
    "colab_type": "code",
    "id": "WpakGaaEEE3x"
   },
   "outputs": [],
   "source": [
    "t_vectorizer = TfidfVectorizer(analyzer='char',\n",
    "                               ngram_range=(3,3),\n",
    "                               max_features=5000,\n",
    "                               sublinear_tf=True)\n",
    "X = t_vectorizer.fit_transform(df['sequence'].values)\n",
    "y = to_categorical(df['label'])"
   ]
  },
  {
   "cell_type": "markdown",
   "metadata": {
    "colab_type": "text",
    "id": "_oEAfB98u130"
   },
   "source": [
    "## Deep Learning Model"
   ]
  },
  {
   "cell_type": "code",
   "execution_count": 0,
   "metadata": {
    "colab": {},
    "colab_type": "code",
    "id": "lI4S0wL5u13-",
    "scrolled": false
   },
   "outputs": [],
   "source": [
    "# Functions to plot the results:\n",
    "\n",
    "\n",
    "def plot_confusion_matrix(cm1, cm2, classes,\n",
    "                          saving_as,\n",
    "                          normalize=False):\n",
    "    if normalize:\n",
    "        cm1 = cm1.astype('float') / cm1.sum(axis=1)[:, np.newaxis]\n",
    "        cm2 = cm2.astype('float') / cm2.sum(axis=1)[:, np.newaxis]\n",
    "    \n",
    "    plt.figure(figsize=(10,5))\n",
    "    plt.subplot(1, 2, 1)\n",
    "    plt.imshow(cm1, interpolation='nearest', cmap=plt.cm.Blues)\n",
    "    plt.title('Confusion Matrix\\nTrain Set', fontsize=24)\n",
    "    tick_marks = np.arange(len(classes))\n",
    "    plt.xticks(tick_marks, classes, rotation=90, fontsize=12)\n",
    "    plt.yticks(tick_marks, classes, fontsize=12)\n",
    "    plt.grid(False)\n",
    "    \n",
    "    fmt = '.2f' if normalize else 'd'\n",
    "    thresh = cm1.max() / 2\n",
    "    #for i , j in itertools.product(range(cm.shape[0]),\n",
    "        #                           range(cm.shape[1])):\n",
    "        #plt.text(j, i, format(cm[i, j], fmt),\n",
    "        #         color='white' if cm[i, j] >= thresh else 'black')\n",
    "    plt.ylabel('True label', fontsize=12)\n",
    "    plt.xlabel('Predicted label', fontsize=12)\n",
    "    plt.xlim(tick_marks[0]-0.5, tick_marks[len(classes)-1]+0.5)\n",
    "    plt.ylim(tick_marks[0]-0.5, tick_marks[len(classes)-1]+0.5)\n",
    "    \n",
    "\n",
    "    plt.subplot(1, 2, 2)\n",
    "    plt.imshow(cm2, interpolation='nearest', cmap=plt.cm.Blues)\n",
    "    plt.title('Confusion Matrix\\nTest Set', fontsize=24)\n",
    "    tick_marks = np.arange(len(classes))\n",
    "    plt.xticks(tick_marks, classes, rotation=90, fontsize=12)\n",
    "    plt.yticks(tick_marks, classes, fontsize=12)\n",
    "    \n",
    "    fmt = '.2f' if normalize else 'd'\n",
    "    thresh = cm2.max() / 2\n",
    "    #for i , j in itertools.product(range(cm.shape[0]),\n",
    "        #                           range(cm.shape[1])):\n",
    "        #plt.text(j, i, format(cm[i, j], fmt),\n",
    "        #         color='white' if cm[i, j] >= thresh else 'black')\n",
    "    plt.ylabel('True label', fontsize=12)\n",
    "    plt.xlabel('Predicted label', fontsize=12)\n",
    "    plt.xlim(tick_marks[0]-0.5, tick_marks[len(classes)-1]+0.5)\n",
    "    plt.ylim(tick_marks[0]-0.5, tick_marks[len(classes)-1]+0.5)\n",
    "    plt.colorbar(fraction=0.048, pad=0.05)\n",
    "    plt.grid(False)\n",
    "    plt.tight_layout()\n",
    "    plt.savefig(saving_as)"
   ]
  },
  {
   "cell_type": "code",
   "execution_count": 0,
   "metadata": {
    "colab": {},
    "colab_type": "code",
    "id": "zT1jiIILu142"
   },
   "outputs": [],
   "source": [
    "def plot_history(history):\n",
    "  acc = history.history['accuracy']\n",
    "  val_acc = history.history['val_accuracy']\n",
    "  loss = history.history['loss']\n",
    "  val_loss = history.history['val_loss']\n",
    "  x = range(1, len(acc) + 1)\n",
    "\n",
    "  plt.figure(figsize=(12, 5))\n",
    "  plt.subplot(1, 2, 1)\n",
    "  plt.plot(x, acc, 'b', label='Training acc', marker='o')\n",
    "  plt.plot(x, val_acc, 'r', label='Validation acc', marker='s')\n",
    "  plt.title('Training and validation accuracy')\n",
    "  plt.legend()\n",
    "\n",
    "  plt.subplot(1, 2, 2)\n",
    "  plt.plot(x, loss, 'b', label='Training loss', marker='o')\n",
    "  plt.plot(x, val_loss, 'r', label='Validation loss', marker='s')\n",
    "  plt.title('Training and validation loss')\n",
    "  plt.legend()\n",
    "  plt.savefig(os.path.join(path_to_data, 'loss-acc.pdf'))"
   ]
  },
  {
   "cell_type": "code",
   "execution_count": 0,
   "metadata": {
    "colab": {},
    "colab_type": "code",
    "id": "sHY_p0z391R8"
   },
   "outputs": [],
   "source": [
    "# Importing required modules\n",
    "\n",
    "from tensorflow.python.keras.models import Sequential\n",
    "from tensorflow.python.keras.layers import Dense, Conv1D\n",
    "from tensorflow.python.keras.layers import MaxPooling1D, Flatten\n",
    "from tensorflow.python.keras.layers.embeddings import Embedding\n",
    "from tensorflow.python.keras.layers import BatchNormalization\n",
    "from tensorflow.python.keras.layers import TimeDistributed\n",
    "from keras.callbacks import EarlyStopping\n",
    "from keras.utils import to_categorical\n",
    "\n",
    "from sklearn.metrics import confusion_matrix\n",
    "from sklearn.metrics import accuracy_score\n",
    "from sklearn.metrics import f1_score\n",
    "import itertools\n",
    "from pandas import DataFrame\n",
    "\n",
    "# from IPython.display import Image\n",
    "from sklearn.preprocessing import LabelEncoder\n",
    "from tensorflow.python.keras.regularizers import l2\n",
    "from tensorflow.python.keras.layers import Dense, Dropout, LSTM\n",
    "from tensorflow.python.keras.layers import Bidirectional\n",
    "from tensorflow.python.keras.layers import CuDNNLSTM\n",
    "from tensorflow.python.keras.layers import TimeDistributed\n",
    "from tensorflow.python.keras.wrappers.scikit_learn import KerasClassifier\n",
    "from sklearn.model_selection import GridSearchCV\n",
    "from sklearn.model_selection import cross_val_score\n",
    "from sklearn.model_selection import KFold\n",
    "from sklearn.preprocessing import StandardScaler"
   ]
  },
  {
   "cell_type": "markdown",
   "metadata": {
    "colab_type": "text",
    "id": "0rD6I5K3cbgl"
   },
   "source": [
    "### Vectorized matrices"
   ]
  },
  {
   "cell_type": "code",
   "execution_count": 0,
   "metadata": {
    "colab": {},
    "colab_type": "code",
    "id": "D1mpoHR-zYjR"
   },
   "outputs": [],
   "source": [
    "sc = StandardScaler()\n",
    "cols = list(['structureId_x', 'sequence', 'label', 'structureId_y', 'experimentalTechnique'])\n",
    "Xpp = sc.fit_transform(df.drop(columns=cols))"
   ]
  },
  {
   "cell_type": "code",
   "execution_count": 0,
   "metadata": {
    "colab": {},
    "colab_type": "code",
    "id": "EeIcwhBC5_yL"
   },
   "outputs": [],
   "source": [
    "XX = np.concatenate((X.toarray(), Xpp), axis=1)"
   ]
  },
  {
   "cell_type": "code",
   "execution_count": 0,
   "metadata": {
    "colab": {
     "base_uri": "https://localhost:8080/",
     "height": 34
    },
    "colab_type": "code",
    "id": "0oGchFSkuDMR",
    "outputId": "264084f5-ed2f-4393-bcdc-46f9817b7d7a"
   },
   "outputs": [
    {
     "data": {
      "text/plain": [
       "((53462, 5000), (53462, 5007))"
      ]
     },
     "execution_count": 67,
     "metadata": {
      "tags": []
     },
     "output_type": "execute_result"
    }
   ],
   "source": [
    "X.shape, XX.shape"
   ]
  },
  {
   "cell_type": "code",
   "execution_count": 0,
   "metadata": {
    "colab": {
     "base_uri": "https://localhost:8080/",
     "height": 51
    },
    "colab_type": "code",
    "id": "BM5HGDpkOylt",
    "outputId": "8e34f905-4b94-46a2-86f0-061a6a134752"
   },
   "outputs": [
    {
     "name": "stdout",
     "output_type": "stream",
     "text": [
      "Shapes of train data:  (48115, 5007) (48115, 15)\n",
      "Shapes of test data:  (5347, 5007) (5347, 15)\n"
     ]
    }
   ],
   "source": [
    "X_train, X_test, y_train, y_test = train_test_split(XX, y,\n",
    "                                                    test_size=0.1,\n",
    "                                                    random_state=14)\n",
    "X_train_0 = X_train\n",
    "X_test_0 = X_test\n",
    "y_train_0 = y_train\n",
    "y_test_0 = y_test\n",
    "\n",
    "#yy = df.label.astype('str')\n",
    "\n",
    "print('Shapes of train data: ', X_train_0.shape, y_train_0.shape)\n",
    "print('Shapes of test data: ', X_test_0.shape, y_test_0.shape)"
   ]
  },
  {
   "cell_type": "code",
   "execution_count": 0,
   "metadata": {
    "colab": {
     "base_uri": "https://localhost:8080/",
     "height": 34
    },
    "colab_type": "code",
    "id": "4RHPB3BUv-nY",
    "outputId": "6cba4d60-5da8-42e5-a414-7d5a16bb2f44"
   },
   "outputs": [
    {
     "name": "stdout",
     "output_type": "stream",
     "text": [
      "(48115, 1, 5007) (5347, 1, 5007)\n"
     ]
    }
   ],
   "source": [
    "X_tr = np.reshape(X_train_0, (X_train_0.shape[0], 1, X_train_0.shape[1]))\n",
    "X_ts = np.reshape(X_test_0, (X_test_0.shape[0], 1, X_test_0.shape[1]))\n",
    "print(X_tr.shape, X_ts.shape)"
   ]
  },
  {
   "cell_type": "code",
   "execution_count": 0,
   "metadata": {
    "colab": {},
    "colab_type": "code",
    "id": "2BR3xSR7u134"
   },
   "outputs": [],
   "source": [
    "# The calculation will be stopped depending on validation loss:\n",
    "es = EarlyStopping(monitor='val_loss',\n",
    "                   patience=3,\n",
    "                   min_delta=0.01,\n",
    "                   verbose=1)"
   ]
  },
  {
   "cell_type": "code",
   "execution_count": 0,
   "metadata": {
    "colab": {},
    "colab_type": "code",
    "id": "Uw9nRhxq8kOA"
   },
   "outputs": [],
   "source": [
    "# This function will compare the predicted family to \n",
    "# the actual family of a particular sequence.\n",
    "\n",
    "\n",
    "def check_predicted(model, nn): # nn is the index of the test sample\n",
    "  entering = [i for i, j in class_d.items() \\\n",
    "              if j == (np.argmax(y_test_0[nn], axis=-1))]\n",
    "  xout = model.predict(np.reshape(X_ts[nn], (1, 1, X_ts.shape[2])))\n",
    "  x_o = [np.round(x_out, 1) for x_out in xout]\n",
    "  exiting = [i for i, j in class_d.items() if j == np.argmax(x_o)]\n",
    "  print('Input: '+str(entering), '\\nOutput: '+str(exiting))\n"
   ]
  },
  {
   "cell_type": "markdown",
   "metadata": {
    "colab_type": "text",
    "id": "_GAQw2jDbOsW"
   },
   "source": [
    "### 1D CNN "
   ]
  },
  {
   "cell_type": "markdown",
   "metadata": {
    "colab_type": "text",
    "id": "wOOWK46m1rup"
   },
   "source": [
    "#### Hyperparameter tuning "
   ]
  },
  {
   "cell_type": "code",
   "execution_count": 0,
   "metadata": {
    "colab": {},
    "colab_type": "code",
    "id": "VfEQppf-x-zt"
   },
   "outputs": [],
   "source": [
    "#Parameter tuning\n",
    "def conv_classifier(optimizer, nodes, layers):\n",
    "  conv_cl = Sequential()\n",
    "  for _ in range(layers):\n",
    "    conv_cl.add(BatchNormalization(input_shape=input_shape))\n",
    "    conv_cl.add(Conv1D(nodes, kernel_size=3,\n",
    "                       padding='same',\n",
    "                       kernel_initializer='uniform',\n",
    "                       kernel_regularizer=l2(0.01),\n",
    "                       activation='relu'))\n",
    "    conv_cl.add(BatchNormalization())\n",
    "    conv_cl.add(Flatten())\n",
    "    conv_cl.add(BatchNormalization())\n",
    "    conv_cl.add(Dense(nodes, activation='relu'))\n",
    "    conv_cl.add(Dense(class_dim, activation='softmax'))\n",
    "    conv_cl.compile(optimizer='adamax',\n",
    "                    loss='categorical_crossentropy',\n",
    "                    metrics=['accuracy'])\n",
    "  return conv_cl\n",
    "\n",
    "parameters = {'batch_size': [64, 128, 256, 512],\n",
    "              'epochs': [20, 30, 40],\n",
    "              'optimizer': ['adam', 'adamax'],\n",
    "              'nodes' : [64, 128, 256],\n",
    "              'layers' : [1, 2, 3, 4]}\n",
    "\n",
    "#conv_cl = KerasClassifier(build_fn=conv_classifier,\n",
    "#                             epochs=10,\n",
    "#                             batch_size=128,\n",
    "#                             verbose=1)\n",
    "#kfold = KFold(n_splits=5, shuffle=True)\n",
    "#results = cross_val_score(conv_cl, X_train, y_train, cv=kfold)\n",
    "#print(results.mean())\n",
    "\n",
    "estimator = KerasClassifier(build_fn=conv_classifier, verbose=1)\n",
    "grid_search = GridSearchCV(estimator=estimator,\n",
    "                           param_grid = parameters,\n",
    "                           scoring = 'accuracy',\n",
    "                           cv = 5, n_jobs=1, verbose=1)\n",
    "\n",
    "grid_results = grid_search.fit(X_train, y_train)\n",
    "best_parameters = grid_results.best_params_\n",
    "best_accuracy = grid_results.best_score_\n",
    "print('best_parameters: ', best_parameters)\n",
    "print('best_accuracy: ', best_accuracy)\n"
   ]
  },
  {
   "cell_type": "markdown",
   "metadata": {
    "colab_type": "text",
    "id": "HN-I6mck4Rpc"
   },
   "source": [
    "####Model"
   ]
  },
  {
   "cell_type": "code",
   "execution_count": 0,
   "metadata": {
    "colab": {},
    "colab_type": "code",
    "id": "1jkN6M-eXyli"
   },
   "outputs": [],
   "source": [
    "input_shape = (X_tr.shape[1:])\n",
    "print(input_shape)\n",
    "layers = 1\n",
    "model = Sequential()\n",
    "for _ in range(layers):\n",
    "  model.add(BatchNormalization(input_shape=input_shape))\n",
    "  model.add(Conv1D(512, kernel_size=3,\n",
    "                   padding='same',\n",
    "                   kernel_initializer='uniform',\n",
    "                   kernel_regularizer=l2(0.01),\n",
    "                   activation='relu'))\n",
    "model.add(BatchNormalization())\n",
    "model.add(Flatten())\n",
    "model.add(BatchNormalization())\n",
    "model.add(Dense(512, activation='relu'))\n",
    "model.add(Dense(class_dim, activation='softmax'))\n",
    "model.compile(optimizer='adamax',\n",
    "              loss='categorical_crossentropy',\n",
    "              metrics=['accuracy'])\n",
    "model.summary()"
   ]
  },
  {
   "cell_type": "code",
   "execution_count": 0,
   "metadata": {
    "colab": {},
    "colab_type": "code",
    "id": "b1NncDksBXQw"
   },
   "outputs": [],
   "source": [
    "conv_model = model.fit(X_tr, y_train_0,\n",
    "          batch_size=512,\n",
    "          epochs=20,\n",
    "          #validation_data=(X_ts, y_test_0),\n",
    "          validation_split=0.1,\n",
    "          verbose=1)"
   ]
  },
  {
   "cell_type": "code",
   "execution_count": 0,
   "metadata": {
    "colab": {
     "base_uri": "https://localhost:8080/",
     "height": 336
    },
    "colab_type": "code",
    "id": "gTayLMGmaV_D",
    "outputId": "0aeecda1-e9e3-453c-f4c6-5827268b71be"
   },
   "outputs": [
    {
     "data": {
      "image/png": "[encoded data removed]",
      "text/plain": [
       "<Figure size 864x360 with 2 Axes>"
      ]
     },
     "metadata": {
      "tags": []
     },
     "output_type": "display_data"
    }
   ],
   "source": [
    "plot_history(conv_model)"
   ]
  },
  {
   "cell_type": "code",
   "execution_count": 0,
   "metadata": {
    "colab": {
     "base_uri": "https://localhost:8080/",
     "height": 51
    },
    "colab_type": "code",
    "id": "3KFNegWfb45-",
    "outputId": "59a3d3b8-0a7c-4941-c359-82ad0e4429d8"
   },
   "outputs": [
    {
     "name": "stdout",
     "output_type": "stream",
     "text": [
      "train-acc = 0.9421845182987889\n",
      "test-acc = 0.6616822429906543\n"
     ]
    }
   ],
   "source": [
    "train_pred = model.predict(X_tr)\n",
    "test_pred = model.predict(X_ts)\n",
    "print('train-acc = ' + str(accuracy_score(np.argmax(y_train_0, axis=1),\n",
    "                                          np.argmax(train_pred, axis=1))))\n",
    "print('test-acc = ' + str(accuracy_score(np.argmax(y_test_0, axis=1),\n",
    "                                         np.argmax(test_pred, axis=1))))\n",
    "# Compute confusion matrix\n",
    "cm_train = confusion_matrix(np.argmax(y_train_0, axis=1),\n",
    "                            np.argmax(train_pred, axis=1))\n",
    "cm_test = confusion_matrix(np.argmax(y_test_0, axis=1),\n",
    "                           np.argmax(test_pred, axis=1))\n",
    "\n",
    "np.set_printoptions(precision=2)"
   ]
  },
  {
   "cell_type": "code",
   "execution_count": 0,
   "metadata": {
    "colab": {
     "base_uri": "https://localhost:8080/",
     "height": 387
    },
    "colab_type": "code",
    "id": "n9OdJK4Pb7Aj",
    "outputId": "b107b588-9af0-4085-a186-503ba71d1bb5"
   },
   "outputs": [
    {
     "data": {
      "image/png": "[encoded data removed]",
      "text/plain": [
       "<Figure size 720x360 with 3 Axes>"
      ]
     },
     "metadata": {
      "tags": []
     },
     "output_type": "display_data"
    }
   ],
   "source": [
    "saving_as = os.path.join(path_to_data, 'confusion_matrix_conv1d.pdf')\n",
    "plot_confusion_matrix(cm_train, cm_test, classes=class_d, saving_as, normalize=True)"
   ]
  },
  {
   "cell_type": "code",
   "execution_count": 0,
   "metadata": {
    "colab": {},
    "colab_type": "code",
    "id": "rxj83pge9Be6"
   },
   "outputs": [],
   "source": [
    "check_predicted(model, 1000)"
   ]
  },
  {
   "cell_type": "markdown",
   "metadata": {
    "colab_type": "text",
    "id": "PcTefpxk1ypk"
   },
   "source": [
    "### BiLSTM: "
   ]
  },
  {
   "cell_type": "markdown",
   "metadata": {
    "colab_type": "text",
    "id": "NyNG0yHMThG6"
   },
   "source": [
    "#### Hyperparameter tuning:"
   ]
  },
  {
   "cell_type": "code",
   "execution_count": 0,
   "metadata": {
    "colab": {},
    "colab_type": "code",
    "id": "JboXilx4ov1X"
   },
   "outputs": [],
   "source": [
    "#Parameter tuning\n",
    "def build_classifier(optimizer, dropout, nodes, layers):\n",
    "    classifier = Sequential()\n",
    "    classifier.add(Bidirectional\n",
    "                   (CuDNNLSTM(nodes,\n",
    "                              kernel_initializer='uniform',\n",
    "                              kernel_regularizer=l2(0.01),\n",
    "                              recurrent_regularizer=l2(0.01),\n",
    "                              return_sequences=True,\n",
    "                              input_shape=input_shape)))\n",
    "    classifier.add(Bidirectional(CuDNNLSTM(nodes, return_sequences=True))) \n",
    "    classifier.add(Flatten())\n",
    "    classifier.add(Dropout(dropout))\n",
    "    classifier.add(Dense(nodes, activation='relu'))\n",
    "    classifier.add(Dense(class_dim, activation='softmax'))\n",
    "    classifier.compile(optimizer=optimizer,\n",
    "                       loss='sparse_categorical_crossentropy',\n",
    "                       metrics=['accuracy'])\n",
    "    return classifier\n",
    "\n",
    "parameters = {'batch_size': [64, 128, 256, 512],\n",
    "              'epochs': [20, 30, 40],\n",
    "              'optimizer': ['adam'],\n",
    "              'dropout' : [0.25, 0.3, 0.5],\n",
    "              'nodes' : [64, 128, 256],\n",
    "              'layers' : [1, 2, 3, 4]}\n",
    "\n",
    "#classifier = KerasClassifier(build_fn=build_classifier,\n",
    "#                             epochs=10,\n",
    "#                             batch_size=128,\n",
    "#                             verbose=1)\n",
    "#kfold = KFold(n_splits=5, shuffle=True)\n",
    "#results = cross_val_score(classifier, X_train, y_train, cv=kfold)\n",
    "#print(results.mean())\n",
    "\n",
    "estimator = KerasClassifier(build_fn=build_classifier, verbose=1)\n",
    "grid_search = GridSearchCV(estimator=estimator,\n",
    "                           param_grid = parameters,\n",
    "                           scoring = 'accuracy',\n",
    "                           cv = 5, n_jobs=1, verbose=3)\n",
    "\n",
    "grid_results = grid_search.fit(X_train, y_train)\n",
    "best_parameters = grid_results.best_params_\n",
    "best_accuracy = grid_results.best_score_\n",
    "print('best_parameters: ', best_parameters)\n",
    "print('best_accuracy: ', best_accuracy)\n"
   ]
  },
  {
   "cell_type": "markdown",
   "metadata": {
    "colab_type": "text",
    "id": "KTPaxH104Zn7"
   },
   "source": [
    "#### Model"
   ]
  },
  {
   "cell_type": "code",
   "execution_count": 0,
   "metadata": {
    "colab": {
     "base_uri": "https://localhost:8080/",
     "height": 34
    },
    "colab_type": "code",
    "id": "TzPUcEE2-Cdb",
    "outputId": "7c8ec9c7-1a61-4dc7-ad15-dda4a9d2eb2d"
   },
   "outputs": [
    {
     "name": "stdout",
     "output_type": "stream",
     "text": [
      "(1, 8951)\n"
     ]
    }
   ],
   "source": [
    "input_shape = (X_tr.shape[1:])\n",
    "print(input_shape)\n",
    "batch_size = 256\n",
    "epochs = 20\n",
    "model = Sequential()\n",
    "model.add(BatchNormalization(input_shape=input_shape))\n",
    "model.add(Bidirectional(CuDNNLSTM(512,\n",
    "                                  kernel_initializer='glorot_uniform',\n",
    "                                  kernel_regularizer=l2(0.01),\n",
    "                                  recurrent_regularizer=l2(0.01),\n",
    "                                  return_sequences=True)))\n",
    "model.add(BatchNormalization())\n",
    "model.add(Bidirectional(CuDNNLSTM(512, return_sequences=True)))\n",
    "model.add(Flatten())\n",
    "model.add(Dense(1024, activation='relu'))\n",
    "model.add(Dense(512, activation='relu'))\n",
    "model.add(Dense(class_dim, activation='softmax'))\n",
    "model.compile(loss='categorical_crossentropy',\n",
    "              optimizer='adam',\n",
    "              metrics=['accuracy'])"
   ]
  },
  {
   "cell_type": "code",
   "execution_count": 0,
   "metadata": {
    "colab": {
     "base_uri": "https://localhost:8080/",
     "height": 976
    },
    "colab_type": "code",
    "id": "NfhcKPYW_1Ap",
    "outputId": "75c3db4b-ab5c-45e0-f0af-66e7377fa331"
   },
   "outputs": [
    {
     "data": {
      "image/png": "[encoded data removed]",
      "text/plain": [
       "<IPython.core.display.Image object>"
      ]
     },
     "execution_count": 108,
     "metadata": {
      "tags": []
     },
     "output_type": "execute_result"
    }
   ],
   "source": [
    "tf.keras.utils.plot_model(model,\n",
    "                          to_file=os.path.join(path_to_data,'arch_lstm.png'),\n",
    "                          show_shapes=True,\n",
    "                          show_layer_names=False)"
   ]
  },
  {
   "cell_type": "code",
   "execution_count": 0,
   "metadata": {
    "colab": {},
    "colab_type": "code",
    "id": "GyqoiqnKHK8m"
   },
   "outputs": [],
   "source": [
    "lstm_model = model.fit(X_tr, y_train_0,\n",
    "                       epochs=epochs,\n",
    "                       batch_size=batch_size,\n",
    "                       validation_split=0.1,\n",
    "                       #validation_data=(X_ts, y_test_0),\n",
    "                       verbose=1)"
   ]
  },
  {
   "cell_type": "code",
   "execution_count": 0,
   "metadata": {
    "colab": {},
    "colab_type": "code",
    "id": "5o9nFzNa4VmF"
   },
   "outputs": [],
   "source": [
    "plot_history(lstm_model)"
   ]
  },
  {
   "cell_type": "code",
   "execution_count": 0,
   "metadata": {
    "colab": {
     "base_uri": "https://localhost:8080/",
     "height": 51
    },
    "colab_type": "code",
    "id": "FgsMzSjPv_Q7",
    "outputId": "37f01d1c-bc6b-4e7e-ad48-1198f9c840d4"
   },
   "outputs": [
    {
     "name": "stdout",
     "output_type": "stream",
     "text": [
      "train-acc = 0.7465655201080744\n",
      "test-acc = 0.5677950252478025\n"
     ]
    }
   ],
   "source": [
    "train_pred = model.predict(X_tr)\n",
    "test_pred = model.predict(X_ts)\n",
    "print('train-acc = ' + str(accuracy_score(np.argmax(y_train_0, axis=1),\n",
    "                                          np.argmax(train_pred, axis=1))))\n",
    "print('test-acc = ' + str(accuracy_score(np.argmax(y_test_0, axis=1),\n",
    "                                         np.argmax(test_pred, axis=1))))\n",
    "# Compute confusion matrix\n",
    "cm1 = confusion_matrix(np.argmax(y_train_0, axis=1), np.argmax(train_pred, axis=1))\n",
    "cm2 = confusion_matrix(np.argmax(y_test_0, axis=1), np.argmax(test_pred, axis=1))\n",
    "np.set_printoptions(precision=2)"
   ]
  },
  {
   "cell_type": "code",
   "execution_count": 0,
   "metadata": {
    "colab": {
     "base_uri": "https://localhost:8080/",
     "height": 387
    },
    "colab_type": "code",
    "id": "AsIkySE-v_d0",
    "outputId": "8b95640a-78cf-4b8d-ba04-bb7e2903b853"
   },
   "outputs": [
    {
     "data": {
      "image/png": "[encoded data removed]",
      "text/plain": [
       "<Figure size 720x360 with 3 Axes>"
      ]
     },
     "metadata": {
      "tags": []
     },
     "output_type": "display_data"
    }
   ],
   "source": [
    "#Plot normalized confusion matrix\n",
    "saving_as = os.path.join(path_to_data, 'confusion_matrix_lstm.pdf')\n",
    "plot_confusion_matrix(cm1, cm2, class_d, saving_as, normalize=True)"
   ]
  },
  {
   "cell_type": "code",
   "execution_count": 0,
   "metadata": {
    "colab": {},
    "colab_type": "code",
    "id": "TBDZ2AQ8vitJ"
   },
   "outputs": [],
   "source": [
    "plot_model(model, to_file='arch_lstm.png', show_shapes=True, show_layer_names=False)"
   ]
  },
  {
   "cell_type": "code",
   "execution_count": 0,
   "metadata": {
    "colab": {},
    "colab_type": "code",
    "id": "gfDGtfaE86ZC"
   },
   "outputs": [],
   "source": [
    "check_predicted(model, 400)"
   ]
  }
 ],
 "metadata": {
  "accelerator": "GPU",
  "colab": {
   "collapsed_sections": [],
   "machine_shape": "hm",
   "name": "Portein_classification_CNN.ipynb",
   "provenance": [],
   "toc_visible": true
  },
  "kernelspec": {
   "display_name": "Python 3",
   "language": "python",
   "name": "python3"
  },
  "language_info": {
   "codemirror_mode": {
    "name": "ipython",
    "version": 3
   },
   "file_extension": ".py",
   "mimetype": "text/x-python",
   "name": "python",
   "nbconvert_exporter": "python",
   "pygments_lexer": "ipython3",
   "version": "3.7.4"
  },
  "pycharm": {
   "stem_cell": {
    "cell_type": "raw",
    "metadata": {
     "collapsed": false
    },
    "source": []
   }
  }
 },
 "nbformat": 4,
 "nbformat_minor": 1
}
