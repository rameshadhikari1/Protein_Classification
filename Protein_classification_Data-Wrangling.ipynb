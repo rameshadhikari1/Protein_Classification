{
 "cells": [
  {
   "cell_type": "code",
   "execution_count": null,
   "metadata": {
    "pycharm": {
     "is_executing": false
    }
   },
   "outputs": [],
   "source": [
    "import numpy as np\n",
    "import pandas as pd\n",
    "import seaborn as sns\n",
    "import matplotlib.pyplot as plt\n",
    "\n",
    "sns.set_style('whitegrid')\n",
    "%matplotlib inline"
   ]
  },
  {
   "cell_type": "code",
   "execution_count": null,
   "metadata": {
    "pycharm": {
     "is_executing": false
    }
   },
   "outputs": [],
   "source": [
    "# Read data files\n",
    "df_dup = pd.read_csv('~/Desktop/Springboard/Protein_Classification/protein-data-set/pdb_data_no_dups.csv')\n",
    "df_seq = pd.read_csv('~/Desktop/Springboard/Protein_Classification/protein-data-set/pdb_data_seq.csv')"
   ]
  },
  {
   "cell_type": "raw",
   "metadata": {
    "pycharm": {
     "is_executing": false
    }
   },
   "source": [
    "df_dup.info(), df_seq.info()"
   ]
  },
  {
   "cell_type": "code",
   "execution_count": null,
   "metadata": {
    "pycharm": {
     "is_executing": false
    }
   },
   "outputs": [],
   "source": [
    "df_seq.drop_duplicates(subset='sequence', inplace=True)"
   ]
  },
  {
   "cell_type": "code",
   "execution_count": null,
   "metadata": {
    "pycharm": {
     "is_executing": false
    },
    "scrolled": false
   },
   "outputs": [],
   "source": [
    "# Let's count the number of unique structure ids\n",
    "print('Unique structureId: ', df_dup.structureId.nunique())\n",
    "print('Unique structureId-seq: ', df_seq.structureId.nunique())\n",
    "print('Unique sequence: ', df_seq.sequence.nunique())\n",
    "print('Unique classes: ', df_dup.classification.nunique())\n",
    "print('Unique residueCount: ', df_dup.residueCount.nunique())\n",
    "# We find the number of repetition of sequence\n",
    "print('10 most common structure Id frequency: \\n', df_seq.structureId.value_counts()[:10])\n",
    "# Let's check if the repeated entries with same structureId have the different sequences or not\n",
    "dfst = df_seq.structureId.value_counts()\n",
    "\n",
    "# Count the number of structure ids with more than one sequences:\n",
    "count = 0\n",
    "for i in range(len(dfst)):\n",
    "    if dfst.values[i] > 1:\n",
    "        count += 1\n",
    "print('Number of structureId with multiple entries: ', count)\n",
    "print('--'*20)\n",
    "print('Are all structureId with multiple entries corresponds unique sequence?')\n",
    "\n",
    "str_counts= 0\n",
    "for i in range(100):\n",
    "    if df_seq[df_seq['structureId'] == dfst.keys()[i]].sequence.nunique() > 1:\n",
    "        str_counts += 1\n",
    "if str_counts > 1:\n",
    "    print('Not all of those multiple entries have unique sequences but several of those have')"
   ]
  },
  {
   "cell_type": "code",
   "execution_count": null,
   "metadata": {
    "pycharm": {
     "is_executing": false
    }
   },
   "outputs": [],
   "source": [
    "# We see that there are multiple entries with same structure id \n",
    "# some of which have same sequences and others with different sequences too. \n",
    "# We only keep one sequence corresponding to the one structureId, therefore, we merge \n",
    "# two datafiles by using 'inner' merge on 'structureId' and remove all \n",
    "# entries with duplicate sequences. "
   ]
  },
  {
   "cell_type": "code",
   "execution_count": null,
   "metadata": {
    "pycharm": {
     "is_executing": false
    }
   },
   "outputs": [],
   "source": [
    "# Merge two dataset on common columns using 'inner join' method:\n",
    "#df_merge = pd.concat([df_dup, df_seq], join='inner', axis=1)\n",
    "df_merge = pd.merge(df_dup, df_seq,\n",
    "                    how='inner',\n",
    "                    on=['structureId',\n",
    "                        'macromoleculeType',\n",
    "                        'residueCount'])"
   ]
  },
  {
   "cell_type": "code",
   "execution_count": null,
   "metadata": {},
   "outputs": [],
   "source": [
    "df_merge.info()"
   ]
  },
  {
   "cell_type": "code",
   "execution_count": null,
   "metadata": {
    "pycharm": {
     "is_executing": false
    }
   },
   "outputs": [],
   "source": [
    "len(df_dup.structureId), len(df_seq.structureId), len(df_merge.structureId)"
   ]
  },
  {
   "cell_type": "code",
   "execution_count": null,
   "metadata": {
    "pycharm": {
     "is_executing": false
    }
   },
   "outputs": [],
   "source": [
    "df_merge.sequence.nunique()"
   ]
  },
  {
   "cell_type": "code",
   "execution_count": null,
   "metadata": {
    "pycharm": {
     "is_executing": false
    }
   },
   "outputs": [],
   "source": [
    "dfcls = df_merge.groupby('macromoleculeType').count().sort_values('sequence', ascending=False)['sequence'][:5]"
   ]
  },
  {
   "cell_type": "code",
   "execution_count": null,
   "metadata": {
    "pycharm": {
     "is_executing": false
    },
    "scrolled": false
   },
   "outputs": [],
   "source": [
    "# Plot the types of macromolecules in the form of Pie chart. \n",
    "fig = plt.figure(figsize=(6, 4))\n",
    "ax = fig.add_axes([0, 0, 1, 1])\n",
    "ax.axis('equal')\n",
    "explode=(0,0,0,0.05,0.4)\n",
    "ax.pie(dfcls.values,\n",
    "       explode=explode,\n",
    "       autopct='%1.0f%%',\n",
    "       labels=dfcls.index,\n",
    "       radius=1.2,\n",
    "       pctdistance=0.7,\n",
    "       labeldistance=1.0,\n",
    "       textprops={'fontsize': 14})\n",
    "plt.title('Types of Macromolecules', y =1, fontsize=24)\n",
    "plt.tight_layout()\n",
    "plt.savefig('PieChart.pdf')"
   ]
  },
  {
   "cell_type": "code",
   "execution_count": null,
   "metadata": {
    "pycharm": {
     "is_executing": false
    }
   },
   "outputs": [],
   "source": [
    "#Select only protein samples, not others and others with proteins\n",
    "\n",
    "df_prot = df_merge[df_merge['macromoleculeType']=='Protein']\n",
    "df_prot.sequence.nunique()"
   ]
  },
  {
   "cell_type": "code",
   "execution_count": null,
   "metadata": {
    "pycharm": {
     "is_executing": false
    }
   },
   "outputs": [],
   "source": [
    "# Delete the samples with missing class and sequence\n",
    "df_cls = df_prot[[type(c)== type('') for c in df_prot.classification.values]]\n",
    "df_cs = df_cls[[type(c) == type('') for c in df_cls.sequence.values]]\n",
    "\n",
    "df_cs.shape, df_cls.shape, df_prot.shape"
   ]
  },
  {
   "cell_type": "code",
   "execution_count": null,
   "metadata": {
    "pycharm": {
     "is_executing": false
    }
   },
   "outputs": [],
   "source": [
    "# Data columns with missing values:\n",
    "plt.figure(figsize=(10, 6))\n",
    "sns.heatmap(df_cs.isnull(), cbar=False, yticklabels=False)\n",
    "plt.show()"
   ]
  },
  {
   "cell_type": "code",
   "execution_count": null,
   "metadata": {
    "pycharm": {
     "is_executing": false
    }
   },
   "outputs": [],
   "source": [
    "dff = df_cs.reset_index(drop=True)\n",
    "dff.classification.nunique()\n"
   ]
  },
  {
   "cell_type": "markdown",
   "metadata": {},
   "source": [
    "###  Class frequency and sequence length frequency"
   ]
  },
  {
   "cell_type": "markdown",
   "metadata": {},
   "source": [
    "#### class separation:"
   ]
  },
  {
   "cell_type": "code",
   "execution_count": null,
   "metadata": {
    "pycharm": {
     "is_executing": false
    }
   },
   "outputs": [],
   "source": [
    "dff['classification'] = dff.classification.astype('str')\n",
    "dff['classification'] = dff.classification.str.lower()\n",
    "dff['classification'] = dff.classification.str.replace(',', '/')\n",
    "dff['classification'] = dff.classification.str.replace(', ', '/')\n",
    "dff['classification'] = dff.classification.str.replace('/ ', '/')\n",
    "dff['classification'] = dff.classification.str.replace(' /', '/')\n",
    "dff['classification'] = dff.classification.str.replace(' ,', '/')\n",
    "dff['classification'] = dff.classification.str.replace('(', '/')\n",
    "dff['classification'] = dff.classification.str.replace(')', '')\n",
    "dff['classification'] = dff.classification.apply(lambda x:'/'.join(sorted(x.split('/'))))"
   ]
  },
  {
   "cell_type": "code",
   "execution_count": null,
   "metadata": {
    "pycharm": {
     "is_executing": false
    }
   },
   "outputs": [],
   "source": [
    "dff[['classification', 'sequence']].nunique()"
   ]
  },
  {
   "cell_type": "code",
   "execution_count": null,
   "metadata": {},
   "outputs": [],
   "source": [
    "classes = dff.classification.value_counts()"
   ]
  },
  {
   "cell_type": "code",
   "execution_count": null,
   "metadata": {
    "scrolled": false
   },
   "outputs": [],
   "source": [
    "class_dict = dict()\n",
    "count = 0\n",
    "counts = 0\n",
    "\n",
    "for cat, num in classes.items():\n",
    "    if num < 2: \n",
    "        condition = (dff['classification'] == cat)\n",
    "        dff = dff[~condition].copy()\n",
    "    \n",
    "        \n",
    "    if num >= 2:\n",
    "        class_dict[cat] = count\n",
    "        count += 1\n",
    "        \n",
    "    counts += 1\n",
    "    if counts % 100 == 0:\n",
    "        print('classes', counts)\n",
    "#class_dict"
   ]
  },
  {
   "cell_type": "code",
   "execution_count": null,
   "metadata": {},
   "outputs": [],
   "source": [
    "# Print the frequency the top 20 most common classes:\n",
    "df_class = dff['classification'].value_counts()[:20]\n",
    "\n",
    "plt.figure(figsize=(7, 7))\n",
    "df_class.plot(kind='bar')\n",
    "plt.xticks(fontsize=12)\n",
    "plt.yticks(fontsize=12)\n",
    "plt.title('Class Frequency of Proteins', fontsize=24)\n",
    "plt.ylabel('Frequency', fontsize=15)\n",
    "plt.tight_layout()\n",
    "plt.savefig('ClassFreqProteins.pdf')"
   ]
  },
  {
   "cell_type": "code",
   "execution_count": null,
   "metadata": {},
   "outputs": [],
   "source": [
    "# Assign the target variable as 'label' for the numerical classes:\n",
    "dff['label'] = dff['classification'].map(class_dict)\n",
    "len(dff.sequence), len(dff.label)"
   ]
  },
  {
   "cell_type": "code",
   "execution_count": null,
   "metadata": {},
   "outputs": [],
   "source": [
    "df = dff\n",
    "import re\n",
    "length = []\n",
    "for x in df.sequence.values:\n",
    "    x = re.sub(r\"\\s+\", \"\", x) # remove all the spaces in x if any.\n",
    "    length.append(len(x))\n",
    "lengths = pd.DataFrame(length, columns=['lengths']).reset_index()"
   ]
  },
  {
   "cell_type": "code",
   "execution_count": null,
   "metadata": {},
   "outputs": [],
   "source": [
    "df = df.reset_index(drop=True).reset_index();"
   ]
  },
  {
   "cell_type": "code",
   "execution_count": null,
   "metadata": {},
   "outputs": [],
   "source": [
    "df = df.merge(lengths, on='index', how='inner')"
   ]
  },
  {
   "cell_type": "code",
   "execution_count": null,
   "metadata": {},
   "outputs": [],
   "source": [
    "df.drop('index', axis=1, inplace=True)"
   ]
  },
  {
   "cell_type": "code",
   "execution_count": null,
   "metadata": {},
   "outputs": [],
   "source": [
    "df_dl = df[['structureId', 'classification', 'sequence', 'lengths', 'label']]"
   ]
  },
  {
   "cell_type": "code",
   "execution_count": null,
   "metadata": {},
   "outputs": [],
   "source": [
    "df_dl.info()\n"
   ]
  },
  {
   "cell_type": "code",
   "execution_count": null,
   "metadata": {
    "pycharm": {
     "is_executing": false
    }
   },
   "outputs": [],
   "source": [
    "# Data for deep learning models.\n",
    "# This contains only sequences and classifications.\n",
    "\n",
    "df_dl.to_csv(r'protein_seq-cls.csv') "
   ]
  },
  {
   "cell_type": "code",
   "execution_count": null,
   "metadata": {},
   "outputs": [],
   "source": [
    "df.drop(['publicationYear', 'pdbxDetails',\n",
    "         'crystallizationTempK', 'macromoleculeType',\n",
    "         'crystallizationMethod'], axis=1, inplace=True)"
   ]
  },
  {
   "cell_type": "code",
   "execution_count": null,
   "metadata": {},
   "outputs": [],
   "source": [
    "df = df.groupby('chainId').ffill()\n"
   ]
  },
  {
   "cell_type": "code",
   "execution_count": null,
   "metadata": {},
   "outputs": [],
   "source": [
    "df.dropna(subset=['densityMatthews',\n",
    "                  'densityPercentSol',\n",
    "                  'resolution', 'sequence',\n",
    "                  'phValue'], inplace=True)"
   ]
  },
  {
   "cell_type": "code",
   "execution_count": null,
   "metadata": {},
   "outputs": [],
   "source": [
    "plt.figure(figsize=(8, 6))\n",
    "sns.heatmap(df.isnull(), cbar=False, yticklabels=False)\n",
    "plt.tight_layout()\n",
    "#plt.savefig('HeatmapForMissingdata.pdf')"
   ]
  },
  {
   "cell_type": "code",
   "execution_count": null,
   "metadata": {},
   "outputs": [],
   "source": [
    "df.info()"
   ]
  },
  {
   "cell_type": "code",
   "execution_count": null,
   "metadata": {},
   "outputs": [],
   "source": [
    "df.to_csv(r'protein_cls.csv') # Data saved for the Machine learning algorithms"
   ]
  },
  {
   "cell_type": "code",
   "execution_count": null,
   "metadata": {},
   "outputs": [],
   "source": []
  }
 ],
 "metadata": {
  "kernelspec": {
   "display_name": "Python 3",
   "language": "python",
   "name": "python3"
  },
  "language_info": {
   "codemirror_mode": {
    "name": "ipython",
    "version": 3
   },
   "file_extension": ".py",
   "mimetype": "text/x-python",
   "name": "python",
   "nbconvert_exporter": "python",
   "pygments_lexer": "ipython3",
   "version": "3.7.4"
  },
  "pycharm": {
   "stem_cell": {
    "cell_type": "raw",
    "metadata": {
     "collapsed": false
    },
    "source": []
   }
  }
 },
 "nbformat": 4,
 "nbformat_minor": 2
}
