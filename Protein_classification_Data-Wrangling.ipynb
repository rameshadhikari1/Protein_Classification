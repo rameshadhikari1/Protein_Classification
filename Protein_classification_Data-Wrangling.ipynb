{
 "cells": [
  {
   "cell_type": "code",
   "execution_count": 2,
   "metadata": {
    "pycharm": {
     "is_executing": false
    }
   },
   "outputs": [
    {
     "name": "stderr",
     "text": [
      "/usr/local/lib/python3.7/site-packages/matplotlib/__init__.py:886: MatplotlibDeprecationWarning: \n",
      "examples.directory is deprecated; in the future, examples will be found relative to the 'datapath' directory.\n",
      "  \"found relative to the 'datapath' directory.\".format(key))\n"
     ],
     "output_type": "stream"
    }
   ],
   "source": [
    "import numpy as np\n",
    "import pandas as pd\n",
    "import seaborn as sns\n",
    "import matplotlib.pyplot as plt\n",
    "\n",
    "sns.set_style('whitegrid')\n",
    "%matplotlib inline"
   ]
  },
  {
   "cell_type": "code",
   "execution_count": 4,
   "metadata": {
    "pycharm": {
     "is_executing": false
    }
   },
   "outputs": [],
   "source": [
    "# Read data files\n",
    "df_dup = pd.read_csv('~/Desktop/Springboard/Protein_Classification/protein-data-set/pdb_data_no_dups.csv')\n",
    "df_seq = pd.read_csv('~/Desktop/Springboard/Protein_Classification/protein-data-set/pdb_data_seq.csv')"
   ]
  },
  {
   "cell_type": "code",
   "execution_count": 5,
   "metadata": {
    "pycharm": {
     "is_executing": false
    }
   },
   "outputs": [
    {
     "name": "stdout",
     "text": [
      "<class 'pandas.core.frame.DataFrame'>\n",
      "RangeIndex: 141401 entries, 0 to 141400\n",
      "Data columns (total 14 columns):\n",
      "structureId                 141401 non-null object\n",
      "classification              141399 non-null object\n",
      "experimentalTechnique       141401 non-null object\n",
      "macromoleculeType           137636 non-null object\n",
      "residueCount                141401 non-null int64\n",
      "resolution                  128589 non-null float64\n",
      "structureMolecularWeight    141401 non-null float64\n",
      "crystallizationMethod       96242 non-null object\n",
      "crystallizationTempK        97039 non-null float64\n",
      "densityMatthews             124724 non-null float64\n",
      "densityPercentSol           124749 non-null float64\n",
      "pdbxDetails                 118534 non-null object\n",
      "phValue                     105110 non-null float64\n",
      "publicationYear             117602 non-null float64\n",
      "dtypes: float64(7), int64(1), object(6)\n",
      "memory usage: 15.1+ MB\n",
      "<class 'pandas.core.frame.DataFrame'>\n",
      "RangeIndex: 467304 entries, 0 to 467303\n",
      "Data columns (total 5 columns):\n",
      "structureId          467304 non-null object\n",
      "chainId              467294 non-null object\n",
      "sequence             467276 non-null object\n",
      "residueCount         467304 non-null int64\n",
      "macromoleculeType    432487 non-null object\n",
      "dtypes: int64(1), object(4)\n",
      "memory usage: 17.8+ MB\n"
     ],
     "output_type": "stream"
    },
    {
     "data": {
      "text/plain": "(None, None)"
     },
     "metadata": {},
     "output_type": "execute_result",
     "execution_count": 5
    }
   ],
   "source": [
    "df_dup.info(), df_seq.info()"
   ]
  },
  {
   "cell_type": "code",
   "execution_count": 6,
   "metadata": {
    "pycharm": {
     "is_executing": false
    }
   },
   "outputs": [],
   "source": [
    "df_seq.drop_duplicates(subset='sequence', inplace=True)"
   ]
  },
  {
   "cell_type": "code",
   "execution_count": 7,
   "metadata": {
    "scrolled": false,
    "pycharm": {
     "is_executing": false
    }
   },
   "outputs": [
    {
     "name": "stdout",
     "text": [
      "Unique structureId:  140911\n",
      "Unique structureId-seq:  83931\n",
      "Unique sequenece:  104812\n",
      "Unique classes:  5050\n",
      "Unique residueCount:  4744\n",
      "10 most common structure Id frequnecy: \n",
      " 3JAG    82\n",
      "3JBN    77\n",
      "5IT7    77\n",
      "5MRC    72\n",
      "2YMI    54\n",
      "2YMH    54\n",
      "2YMR    53\n",
      "5MYJ    51\n",
      "5T2A    51\n",
      "3J7Y    51\n",
      "Name: structureId, dtype: int64\n",
      "Number of structureId with multiple entries:  11857\n",
      "----------------------------------------\n",
      "Are all structureId with multiple entries corresponds unique sequence?\n",
      "Not all of those multiple entries have unique sequences but several of those have\n"
     ],
     "output_type": "stream"
    }
   ],
   "source": [
    "# Let's count the number of unique structure ids\n",
    "print('Unique structureId: ', df_dup.structureId.nunique())\n",
    "print('Unique structureId-seq: ', df_seq.structureId.nunique())\n",
    "print('Unique sequence: ', df_seq.sequence.nunique())\n",
    "print('Unique classes: ', df_dup.classification.nunique())\n",
    "print('Unique residueCount: ', df_dup.residueCount.nunique())\n",
    "# We find the number of repetition of sequence\n",
    "print('10 most common structure Id frequency: \\n', df_seq.structureId.value_counts()[:10])\n",
    "# Let's check if the repeated entries with same structureId have the different sequences or not\n",
    "dfst = df_seq.structureId.value_counts()\n",
    "\n",
    "# Count the number of structure ids with more than one sequences:\n",
    "count = 0\n",
    "for i in range(len(dfst)):\n",
    "    if dfst.values[i] > 1:\n",
    "        count += 1\n",
    "print('Number of structureId with multiple entries: ', count)\n",
    "print('--'*20)\n",
    "print('Are all structureId with multiple entries corresponds unique sequence?')\n",
    "\n",
    "str_counts= 0\n",
    "for i in range(100):\n",
    "    if df_seq[df_seq['structureId'] == dfst.keys()[i]].sequence.nunique() > 1:\n",
    "        str_counts += 1\n",
    "if str_counts > 1:\n",
    "    print('Not all of those multiple entries have unique sequences but several of those have')"
   ]
  },
  {
   "cell_type": "code",
   "execution_count": 8,
   "metadata": {
    "pycharm": {
     "is_executing": false
    }
   },
   "outputs": [],
   "source": [
    "# We see that there are multiple entries with same structure id \n",
    "# some of which have same sequences and others with different sequences too. \n",
    "# We only keep one sequence corresponding to the one structureId, therefore, we merge \n",
    "# two datafiles by using 'inner' merge on 'structureId' and remove all \n",
    "# entries with duplicate sequences. "
   ]
  },
  {
   "cell_type": "code",
   "execution_count": 9,
   "metadata": {
    "pycharm": {
     "is_executing": false
    }
   },
   "outputs": [],
   "source": [
    "# Merge two dataset on common columns using 'inner join' method:\n",
    "#df_merge = pd.concat([df_dup, df_seq], join='inner', axis=1)\n",
    "df_merge = pd.merge(df_dup, df_seq,\n",
    "                    how='inner',\n",
    "                    on=['structureId',\n",
    "                        'macromoleculeType',\n",
    "                        'residueCount'])"
   ]
  },
  {
   "cell_type": "code",
   "execution_count": 16,
   "metadata": {},
   "outputs": [
    {
     "name": "stdout",
     "output_type": "stream",
     "text": [
      "<class 'pandas.core.frame.DataFrame'>\n",
      "Int64Index: 105272 entries, 0 to 105271\n",
      "Data columns (total 16 columns):\n",
      "structureId                 105272 non-null object\n",
      "classification              105271 non-null object\n",
      "experimentalTechnique       105272 non-null object\n",
      "macromoleculeType           101784 non-null object\n",
      "residueCount                105272 non-null int64\n",
      "resolution                  94721 non-null float64\n",
      "structureMolecularWeight    105272 non-null float64\n",
      "crystallizationMethod       67913 non-null object\n",
      "crystallizationTempK        68563 non-null float64\n",
      "densityMatthews             86434 non-null float64\n",
      "densityPercentSol           86523 non-null float64\n",
      "pdbxDetails                 83137 non-null object\n",
      "phValue                     73107 non-null float64\n",
      "publicationYear             87446 non-null float64\n",
      "chainId                     105271 non-null object\n",
      "sequence                    105271 non-null object\n",
      "dtypes: float64(7), int64(1), object(8)\n",
      "memory usage: 13.7+ MB\n"
     ]
    }
   ],
   "source": [
    "df_merge.info()"
   ]
  },
  {
   "cell_type": "code",
   "execution_count": 10,
   "metadata": {
    "pycharm": {
     "is_executing": false
    }
   },
   "outputs": [
    {
     "data": {
      "text/plain": "(141401, 104813, 105272)"
     },
     "metadata": {},
     "output_type": "execute_result",
     "execution_count": 10
    }
   ],
   "source": [
    "len(df_dup.structureId), len(df_seq.structureId), len(df_merge.structureId)"
   ]
  },
  {
   "cell_type": "code",
   "execution_count": 11,
   "metadata": {
    "pycharm": {
     "is_executing": false
    }
   },
   "outputs": [
    {
     "data": {
      "text/plain": "104812"
     },
     "metadata": {},
     "output_type": "execute_result",
     "execution_count": 11
    }
   ],
   "source": [
    "df_merge.sequence.nunique()"
   ]
  },
  {
   "cell_type": "code",
   "execution_count": 12,
   "metadata": {
    "pycharm": {
     "is_executing": false
    }
   },
   "outputs": [],
   "source": [
    "dfcls = df_merge.groupby('macromoleculeType').count().sort_values('sequence', ascending=False)['sequence'][:5]"
   ]
  },
  {
   "cell_type": "code",
   "execution_count": 13,
   "metadata": {
    "scrolled": false,
    "pycharm": {
     "is_executing": false
    }
   },
   "outputs": [
    {
     "name": "stderr",
     "text": [
      "/usr/local/lib/python3.7/site-packages/matplotlib/figure.py:2362: UserWarning: This figure includes Axes that are not compatible with tight_layout, so results might be incorrect.\n",
      "  warnings.warn(\"This figure includes Axes that are not compatible \"\n"
     ],
     "output_type": "stream"
    },
    {
     "data": {
      "text/plain": "<Figure size 432x288 with 1 Axes>",
      "image/png": "[encoded data removed]"
     },
     "metadata": {},
     "output_type": "display_data"
    }
   ],
   "source": [
    "# Plot the types of macromolecules in the form of Pie chart. \n",
    "fig = plt.figure(figsize=(6, 4))\n",
    "ax = fig.add_axes([0, 0, 1, 1])\n",
    "ax.axis('equal')\n",
    "explode=(0,0,0,0.05,0.4)\n",
    "ax.pie(dfcls.values,\n",
    "       explode=explode,\n",
    "       autopct='%1.0f%%',\n",
    "       labels=dfcls.index,\n",
    "       radius=1.2,\n",
    "       pctdistance=0.7,\n",
    "       labeldistance=1.0,\n",
    "       textprops={'fontsize': 14})\n",
    "plt.title('Types of Macromolecules', y =1, fontsize=24)\n",
    "plt.tight_layout()\n",
    "plt.savefig('PieChart.pdf')"
   ]
  },
  {
   "cell_type": "code",
   "execution_count": 14,
   "metadata": {
    "pycharm": {
     "is_executing": false
    }
   },
   "outputs": [
    {
     "data": {
      "text/plain": "87761"
     },
     "metadata": {},
     "output_type": "execute_result",
     "execution_count": 14
    }
   ],
   "source": [
    "#Select only protein samples, not others and others with proteins\n",
    "\n",
    "df_prot = df_merge[df_merge['macromoleculeType']=='Protein']\n",
    "df_prot.sequence.nunique()"
   ]
  },
  {
   "cell_type": "code",
   "execution_count": 15,
   "metadata": {
    "pycharm": {
     "is_executing": false
    }
   },
   "outputs": [
    {
     "data": {
      "text/plain": "((88169, 16), (88169, 16), (88169, 16))"
     },
     "metadata": {},
     "output_type": "execute_result",
     "execution_count": 15
    }
   ],
   "source": [
    "# Delete the samples with missing class and sequence\n",
    "df_cls = df_prot[[type(c)== type('') for c in df_prot.classification.values]]\n",
    "df_cs = df_cls[[type(c) == type('') for c in df_cls.sequence.values]]\n",
    "\n",
    "df_cs.shape, df_cls.shape, df_prot.shape"
   ]
  },
  {
   "cell_type": "code",
   "execution_count": 16,
   "metadata": {
    "pycharm": {
     "is_executing": false
    }
   },
   "outputs": [
    {
     "data": {
      "text/plain": "<Figure size 720x432 with 1 Axes>",
      "image/png": "[encoded data removed]"
     },
     "metadata": {
      "needs_background": "light"
     },
     "output_type": "display_data"
    }
   ],
   "source": [
    "# Data columns with missing values:\n",
    "plt.figure(figsize=(10, 6))\n",
    "sns.heatmap(df_cs.isnull(), cbar=False, yticklabels=False)\n",
    "plt.show()"
   ]
  },
  {
   "cell_type": "code",
   "execution_count": 17,
   "metadata": {
    "pycharm": {
     "is_executing": false
    }
   },
   "outputs": [
    {
     "data": {
      "text/plain": "3956"
     },
     "metadata": {},
     "output_type": "execute_result",
     "execution_count": 17
    }
   ],
   "source": [
    "dff = df_cs.reset_index(drop=True)\n",
    "dff.classification.nunique()\n"
   ]
  },
  {
   "cell_type": "markdown",
   "metadata": {},
   "source": [
    "###  Class frequency and sequence length frequency"
   ]
  },
  {
   "cell_type": "markdown",
   "metadata": {},
   "source": [
    "#### class separation:"
   ]
  },
  {
   "cell_type": "code",
   "execution_count": 18,
   "metadata": {
    "pycharm": {
     "is_executing": false
    }
   },
   "outputs": [],
   "source": [
    "dff['classification'] = dff.classification.astype('str')\n",
    "dff['classification'] = dff.classification.str.lower()\n",
    "dff['classification'] = dff.classification.str.replace(',', '/')\n",
    "dff['classification'] = dff.classification.str.replace(', ', '/')\n",
    "dff['classification'] = dff.classification.str.replace('/ ', '/')\n",
    "dff['classification'] = dff.classification.str.replace(' /', '/')\n",
    "dff['classification'] = dff.classification.str.replace(' ,', '/')\n",
    "dff['classification'] = dff.classification.str.replace('(', '/')\n",
    "dff['classification'] = dff.classification.str.replace(')', '')\n",
    "dff['classification'] = dff.classification.apply(lambda x:'/'.join(sorted(x.split('/'))))"
   ]
  },
  {
   "cell_type": "code",
   "execution_count": 19,
   "metadata": {
    "pycharm": {
     "is_executing": false
    }
   },
   "outputs": [
    {
     "data": {
      "text/plain": "classification     2684\nsequence          87761\ndtype: int64"
     },
     "metadata": {},
     "output_type": "execute_result",
     "execution_count": 19
    }
   ],
   "source": [
    "dff[['classification', 'sequence']].nunique()"
   ]
  },
  {
   "cell_type": "code",
   "execution_count": 50,
   "metadata": {},
   "outputs": [],
   "source": [
    "classes = dff.classification.value_counts()"
   ]
  },
  {
   "cell_type": "code",
   "execution_count": 51,
   "metadata": {
    "scrolled": false
   },
   "outputs": [
    {
     "name": "stdout",
     "output_type": "stream",
     "text": [
      "classes 100\n",
      "classes 200\n",
      "classes 300\n",
      "classes 400\n",
      "classes 500\n",
      "classes 600\n",
      "classes 700\n",
      "classes 800\n",
      "classes 900\n",
      "classes 1000\n",
      "classes 1100\n",
      "classes 1200\n",
      "classes 1300\n",
      "classes 1400\n",
      "classes 1500\n",
      "classes 1600\n",
      "classes 1700\n",
      "classes 1800\n",
      "classes 1900\n",
      "classes 2000\n",
      "classes 2100\n",
      "classes 2200\n",
      "classes 2300\n",
      "classes 2400\n",
      "classes 2500\n",
      "classes 2600\n"
     ]
    }
   ],
   "source": [
    "class_dict = dict()\n",
    "count = 0\n",
    "counts = 0\n",
    "\n",
    "for cat, num in classes.items():\n",
    "    if num < 2: \n",
    "        condition = (dff['classification'] == cat)\n",
    "        dff = dff[~condition].copy()\n",
    "    \n",
    "        \n",
    "    if num >= 2:\n",
    "        class_dict[cat] = count\n",
    "        count += 1\n",
    "        \n",
    "    counts += 1\n",
    "    if counts % 100 == 0:\n",
    "        print('classes', counts)\n",
    "#class_dict"
   ]
  },
  {
   "cell_type": "code",
   "execution_count": 81,
   "metadata": {},
   "outputs": [
    {
     "data": {
      "image/png": "[encoded data removed]",
      "text/plain": [
       "<Figure size 504x504 with 1 Axes>"
      ]
     },
     "metadata": {
      "needs_background": "light"
     },
     "output_type": "display_data"
    }
   ],
   "source": [
    "# Print the frequency the top 20 most common classes:\n",
    "df_class = dff['classification'].value_counts()[:20]\n",
    "\n",
    "plt.figure(figsize=(7, 7))\n",
    "df_class.plot(kind='bar')\n",
    "plt.xticks(fontsize=12)\n",
    "plt.yticks(fontsize=12)\n",
    "plt.title('Class Frequency of Proteins', fontsize=24)\n",
    "plt.ylabel('Frequency', fontsize=15)\n",
    "plt.tight_layout()\n",
    "plt.savefig('ClassFreqProteins.pdf')"
   ]
  },
  {
   "cell_type": "code",
   "execution_count": 53,
   "metadata": {},
   "outputs": [
    {
     "data": {
      "text/plain": [
       "(87098, 87098)"
      ]
     },
     "execution_count": 53,
     "metadata": {},
     "output_type": "execute_result"
    }
   ],
   "source": [
    "# Assign the target variable as 'label' for the numerical classes:\n",
    "dff['label'] = dff['classification'].map(class_dict)\n",
    "len(dff.sequence), len(dff.label)"
   ]
  },
  {
   "cell_type": "code",
   "execution_count": 54,
   "metadata": {},
   "outputs": [],
   "source": [
    "df = dff\n",
    "import re\n",
    "length = []\n",
    "for x in df.sequence.values:\n",
    "    x = re.sub(r\"\\s+\", \"\", x) # remove all the spaces in x if any.\n",
    "    length.append(len(x))\n",
    "lengths = pd.DataFrame(length, columns=['lengths']).reset_index()"
   ]
  },
  {
   "cell_type": "code",
   "execution_count": 55,
   "metadata": {},
   "outputs": [],
   "source": [
    "df = df.reset_index(drop=True).reset_index();"
   ]
  },
  {
   "cell_type": "code",
   "execution_count": 56,
   "metadata": {},
   "outputs": [],
   "source": [
    "df = df.merge(lengths, on='index', how='inner')"
   ]
  },
  {
   "cell_type": "code",
   "execution_count": 57,
   "metadata": {},
   "outputs": [],
   "source": [
    "df.drop('index', axis=1, inplace=True)"
   ]
  },
  {
   "cell_type": "code",
   "execution_count": 58,
   "metadata": {},
   "outputs": [],
   "source": [
    "df_dl = df[['structureId', 'classification', 'sequence', 'lengths', 'label']]"
   ]
  },
  {
   "cell_type": "code",
   "execution_count": 72,
   "metadata": {},
   "outputs": [
    {
     "name": "stdout",
     "output_type": "stream",
     "text": [
      "<class 'pandas.core.frame.DataFrame'>\n",
      "Int64Index: 87098 entries, 0 to 87097\n",
      "Data columns (total 5 columns):\n",
      "structureId       87098 non-null object\n",
      "classification    87098 non-null object\n",
      "sequence          87098 non-null object\n",
      "lengths           87098 non-null int64\n",
      "label             87098 non-null int64\n",
      "dtypes: int64(2), object(3)\n",
      "memory usage: 4.0+ MB\n"
     ]
    }
   ],
   "source": [
    "df_dl.info()\n"
   ]
  },
  {
   "cell_type": "code",
   "execution_count": 1,
   "metadata": {
    "pycharm": {
     "is_executing": false
    }
   },
   "outputs": [
    {
     "traceback": [
      "\u001b[0;31m---------------------------------------------------------------------------\u001b[0m",
      "\u001b[0;31mNameError\u001b[0m                                 Traceback (most recent call last)",
      "\u001b[0;32m<ipython-input-1-05f3eafef19c>\u001b[0m in \u001b[0;36m<module>\u001b[0;34m\u001b[0m\n\u001b[1;32m      3\u001b[0m \u001b[0;31m# This contains only sequences and classifications.\u001b[0m\u001b[0;34m\u001b[0m\u001b[0;34m\u001b[0m\u001b[0;34m\u001b[0m\u001b[0m\n\u001b[1;32m      4\u001b[0m \u001b[0;34m\u001b[0m\u001b[0m\n\u001b[0;32m----> 5\u001b[0;31m \u001b[0mdf_dl\u001b[0m\u001b[0;34m.\u001b[0m\u001b[0mto_csv\u001b[0m\u001b[0;34m(\u001b[0m\u001b[0;34mr'protein_seq-cls.csv'\u001b[0m\u001b[0;34m)\u001b[0m\u001b[0;34m\u001b[0m\u001b[0;34m\u001b[0m\u001b[0m\n\u001b[0m\u001b[1;32m      6\u001b[0m \u001b[0;34m\u001b[0m\u001b[0m\n",
      "\u001b[0;31mNameError\u001b[0m: name 'df_dl' is not defined"
     ],
     "ename": "NameError",
     "evalue": "name 'df_dl' is not defined",
     "output_type": "error"
    }
   ],
   "source": [
    "# Data for deep learning models.\n",
    "# This contains only sequences and classifications.\n",
    "\n",
    "df_dl.to_csv(r'protein_seq-cls.csv') "
   ]
  },
  {
   "cell_type": "code",
   "execution_count": 74,
   "metadata": {},
   "outputs": [
    {
     "ename": "KeyError",
     "evalue": "\"['publicationYear' 'pdbxDetails' 'crystallizationTempK'\\n 'macromoleculeType' 'crystallizationMethod'] not found in axis\"",
     "output_type": "error",
     "traceback": [
      "\u001b[0;31m---------------------------------------------------------------------------\u001b[0m",
      "\u001b[0;31mKeyError\u001b[0m                                  Traceback (most recent call last)",
      "\u001b[0;32m<ipython-input-74-5b34208bc0a7>\u001b[0m in \u001b[0;36m<module>\u001b[0;34m\u001b[0m\n\u001b[1;32m      1\u001b[0m df.drop(['publicationYear', 'pdbxDetails',\n\u001b[1;32m      2\u001b[0m          \u001b[0;34m'crystallizationTempK'\u001b[0m\u001b[0;34m,\u001b[0m \u001b[0;34m'macromoleculeType'\u001b[0m\u001b[0;34m,\u001b[0m\u001b[0;34m\u001b[0m\u001b[0;34m\u001b[0m\u001b[0m\n\u001b[0;32m----> 3\u001b[0;31m          'crystallizationMethod'], axis=1, inplace=True)\n\u001b[0m",
      "\u001b[0;32m~/anaconda3/anaconda3/lib/python3.7/site-packages/pandas/core/frame.py\u001b[0m in \u001b[0;36mdrop\u001b[0;34m(self, labels, axis, index, columns, level, inplace, errors)\u001b[0m\n\u001b[1;32m   4100\u001b[0m             \u001b[0mlevel\u001b[0m\u001b[0;34m=\u001b[0m\u001b[0mlevel\u001b[0m\u001b[0;34m,\u001b[0m\u001b[0;34m\u001b[0m\u001b[0;34m\u001b[0m\u001b[0m\n\u001b[1;32m   4101\u001b[0m             \u001b[0minplace\u001b[0m\u001b[0;34m=\u001b[0m\u001b[0minplace\u001b[0m\u001b[0;34m,\u001b[0m\u001b[0;34m\u001b[0m\u001b[0;34m\u001b[0m\u001b[0m\n\u001b[0;32m-> 4102\u001b[0;31m             \u001b[0merrors\u001b[0m\u001b[0;34m=\u001b[0m\u001b[0merrors\u001b[0m\u001b[0;34m,\u001b[0m\u001b[0;34m\u001b[0m\u001b[0;34m\u001b[0m\u001b[0m\n\u001b[0m\u001b[1;32m   4103\u001b[0m         )\n\u001b[1;32m   4104\u001b[0m \u001b[0;34m\u001b[0m\u001b[0m\n",
      "\u001b[0;32m~/anaconda3/anaconda3/lib/python3.7/site-packages/pandas/core/generic.py\u001b[0m in \u001b[0;36mdrop\u001b[0;34m(self, labels, axis, index, columns, level, inplace, errors)\u001b[0m\n\u001b[1;32m   3912\u001b[0m         \u001b[0;32mfor\u001b[0m \u001b[0maxis\u001b[0m\u001b[0;34m,\u001b[0m \u001b[0mlabels\u001b[0m \u001b[0;32min\u001b[0m \u001b[0maxes\u001b[0m\u001b[0;34m.\u001b[0m\u001b[0mitems\u001b[0m\u001b[0;34m(\u001b[0m\u001b[0;34m)\u001b[0m\u001b[0;34m:\u001b[0m\u001b[0;34m\u001b[0m\u001b[0;34m\u001b[0m\u001b[0m\n\u001b[1;32m   3913\u001b[0m             \u001b[0;32mif\u001b[0m \u001b[0mlabels\u001b[0m \u001b[0;32mis\u001b[0m \u001b[0;32mnot\u001b[0m \u001b[0;32mNone\u001b[0m\u001b[0;34m:\u001b[0m\u001b[0;34m\u001b[0m\u001b[0;34m\u001b[0m\u001b[0m\n\u001b[0;32m-> 3914\u001b[0;31m                 \u001b[0mobj\u001b[0m \u001b[0;34m=\u001b[0m \u001b[0mobj\u001b[0m\u001b[0;34m.\u001b[0m\u001b[0m_drop_axis\u001b[0m\u001b[0;34m(\u001b[0m\u001b[0mlabels\u001b[0m\u001b[0;34m,\u001b[0m \u001b[0maxis\u001b[0m\u001b[0;34m,\u001b[0m \u001b[0mlevel\u001b[0m\u001b[0;34m=\u001b[0m\u001b[0mlevel\u001b[0m\u001b[0;34m,\u001b[0m \u001b[0merrors\u001b[0m\u001b[0;34m=\u001b[0m\u001b[0merrors\u001b[0m\u001b[0;34m)\u001b[0m\u001b[0;34m\u001b[0m\u001b[0;34m\u001b[0m\u001b[0m\n\u001b[0m\u001b[1;32m   3915\u001b[0m \u001b[0;34m\u001b[0m\u001b[0m\n\u001b[1;32m   3916\u001b[0m         \u001b[0;32mif\u001b[0m \u001b[0minplace\u001b[0m\u001b[0;34m:\u001b[0m\u001b[0;34m\u001b[0m\u001b[0;34m\u001b[0m\u001b[0m\n",
      "\u001b[0;32m~/anaconda3/anaconda3/lib/python3.7/site-packages/pandas/core/generic.py\u001b[0m in \u001b[0;36m_drop_axis\u001b[0;34m(self, labels, axis, level, errors)\u001b[0m\n\u001b[1;32m   3944\u001b[0m                 \u001b[0mnew_axis\u001b[0m \u001b[0;34m=\u001b[0m \u001b[0maxis\u001b[0m\u001b[0;34m.\u001b[0m\u001b[0mdrop\u001b[0m\u001b[0;34m(\u001b[0m\u001b[0mlabels\u001b[0m\u001b[0;34m,\u001b[0m \u001b[0mlevel\u001b[0m\u001b[0;34m=\u001b[0m\u001b[0mlevel\u001b[0m\u001b[0;34m,\u001b[0m \u001b[0merrors\u001b[0m\u001b[0;34m=\u001b[0m\u001b[0merrors\u001b[0m\u001b[0;34m)\u001b[0m\u001b[0;34m\u001b[0m\u001b[0;34m\u001b[0m\u001b[0m\n\u001b[1;32m   3945\u001b[0m             \u001b[0;32melse\u001b[0m\u001b[0;34m:\u001b[0m\u001b[0;34m\u001b[0m\u001b[0;34m\u001b[0m\u001b[0m\n\u001b[0;32m-> 3946\u001b[0;31m                 \u001b[0mnew_axis\u001b[0m \u001b[0;34m=\u001b[0m \u001b[0maxis\u001b[0m\u001b[0;34m.\u001b[0m\u001b[0mdrop\u001b[0m\u001b[0;34m(\u001b[0m\u001b[0mlabels\u001b[0m\u001b[0;34m,\u001b[0m \u001b[0merrors\u001b[0m\u001b[0;34m=\u001b[0m\u001b[0merrors\u001b[0m\u001b[0;34m)\u001b[0m\u001b[0;34m\u001b[0m\u001b[0;34m\u001b[0m\u001b[0m\n\u001b[0m\u001b[1;32m   3947\u001b[0m             \u001b[0mresult\u001b[0m \u001b[0;34m=\u001b[0m \u001b[0mself\u001b[0m\u001b[0;34m.\u001b[0m\u001b[0mreindex\u001b[0m\u001b[0;34m(\u001b[0m\u001b[0;34m**\u001b[0m\u001b[0;34m{\u001b[0m\u001b[0maxis_name\u001b[0m\u001b[0;34m:\u001b[0m \u001b[0mnew_axis\u001b[0m\u001b[0;34m}\u001b[0m\u001b[0;34m)\u001b[0m\u001b[0;34m\u001b[0m\u001b[0;34m\u001b[0m\u001b[0m\n\u001b[1;32m   3948\u001b[0m \u001b[0;34m\u001b[0m\u001b[0m\n",
      "\u001b[0;32m~/anaconda3/anaconda3/lib/python3.7/site-packages/pandas/core/indexes/base.py\u001b[0m in \u001b[0;36mdrop\u001b[0;34m(self, labels, errors)\u001b[0m\n\u001b[1;32m   5338\u001b[0m         \u001b[0;32mif\u001b[0m \u001b[0mmask\u001b[0m\u001b[0;34m.\u001b[0m\u001b[0many\u001b[0m\u001b[0;34m(\u001b[0m\u001b[0;34m)\u001b[0m\u001b[0;34m:\u001b[0m\u001b[0;34m\u001b[0m\u001b[0;34m\u001b[0m\u001b[0m\n\u001b[1;32m   5339\u001b[0m             \u001b[0;32mif\u001b[0m \u001b[0merrors\u001b[0m \u001b[0;34m!=\u001b[0m \u001b[0;34m\"ignore\"\u001b[0m\u001b[0;34m:\u001b[0m\u001b[0;34m\u001b[0m\u001b[0;34m\u001b[0m\u001b[0m\n\u001b[0;32m-> 5340\u001b[0;31m                 \u001b[0;32mraise\u001b[0m \u001b[0mKeyError\u001b[0m\u001b[0;34m(\u001b[0m\u001b[0;34m\"{} not found in axis\"\u001b[0m\u001b[0;34m.\u001b[0m\u001b[0mformat\u001b[0m\u001b[0;34m(\u001b[0m\u001b[0mlabels\u001b[0m\u001b[0;34m[\u001b[0m\u001b[0mmask\u001b[0m\u001b[0;34m]\u001b[0m\u001b[0;34m)\u001b[0m\u001b[0;34m)\u001b[0m\u001b[0;34m\u001b[0m\u001b[0;34m\u001b[0m\u001b[0m\n\u001b[0m\u001b[1;32m   5341\u001b[0m             \u001b[0mindexer\u001b[0m \u001b[0;34m=\u001b[0m \u001b[0mindexer\u001b[0m\u001b[0;34m[\u001b[0m\u001b[0;34m~\u001b[0m\u001b[0mmask\u001b[0m\u001b[0;34m]\u001b[0m\u001b[0;34m\u001b[0m\u001b[0;34m\u001b[0m\u001b[0m\n\u001b[1;32m   5342\u001b[0m         \u001b[0;32mreturn\u001b[0m \u001b[0mself\u001b[0m\u001b[0;34m.\u001b[0m\u001b[0mdelete\u001b[0m\u001b[0;34m(\u001b[0m\u001b[0mindexer\u001b[0m\u001b[0;34m)\u001b[0m\u001b[0;34m\u001b[0m\u001b[0;34m\u001b[0m\u001b[0m\n",
      "\u001b[0;31mKeyError\u001b[0m: \"['publicationYear' 'pdbxDetails' 'crystallizationTempK'\\n 'macromoleculeType' 'crystallizationMethod'] not found in axis\""
     ]
    }
   ],
   "source": [
    "df.drop(['publicationYear', 'pdbxDetails',\n",
    "         'crystallizationTempK', 'macromoleculeType',\n",
    "         'crystallizationMethod'], axis=1, inplace=True)"
   ]
  },
  {
   "cell_type": "code",
   "execution_count": 62,
   "metadata": {},
   "outputs": [],
   "source": [
    "df = df.groupby('chainId').ffill()\n"
   ]
  },
  {
   "cell_type": "code",
   "execution_count": 66,
   "metadata": {},
   "outputs": [],
   "source": [
    "df.dropna(subset=['densityMatthews',\n",
    "                  'densityPercentSol',\n",
    "                  'resolution', 'sequence',\n",
    "                  'phValue'], inplace=True)"
   ]
  },
  {
   "cell_type": "code",
   "execution_count": 69,
   "metadata": {},
   "outputs": [
    {
     "data": {
      "image/png": "[encoded data removed]",
      "text/plain": [
       "<Figure size 576x432 with 1 Axes>"
      ]
     },
     "metadata": {
      "needs_background": "light"
     },
     "output_type": "display_data"
    }
   ],
   "source": [
    "plt.figure(figsize=(8, 6))\n",
    "sns.heatmap(df.isnull(), cbar=False, yticklabels=False)\n",
    "plt.tight_layout()\n",
    "#plt.savefig('HeatmapForMissingdata.pdf')"
   ]
  },
  {
   "cell_type": "code",
   "execution_count": 70,
   "metadata": {},
   "outputs": [
    {
     "name": "stdout",
     "output_type": "stream",
     "text": [
      "<class 'pandas.core.frame.DataFrame'>\n",
      "Int64Index: 86877 entries, 0 to 87097\n",
      "Data columns (total 12 columns):\n",
      "structureId                 86877 non-null object\n",
      "classification              86877 non-null object\n",
      "experimentalTechnique       86877 non-null object\n",
      "residueCount                86877 non-null int64\n",
      "resolution                  86877 non-null float64\n",
      "structureMolecularWeight    86877 non-null float64\n",
      "densityMatthews             86877 non-null float64\n",
      "densityPercentSol           86877 non-null float64\n",
      "phValue                     86877 non-null float64\n",
      "sequence                    86877 non-null object\n",
      "label                       86877 non-null int64\n",
      "lengths                     86877 non-null int64\n",
      "dtypes: float64(5), int64(3), object(4)\n",
      "memory usage: 8.6+ MB\n"
     ]
    }
   ],
   "source": [
    "df.info()"
   ]
  },
  {
   "cell_type": "code",
   "execution_count": 71,
   "metadata": {},
   "outputs": [],
   "source": [
    "df.to_csv(r'protein_cls.csv') # Data saved for the Machine learning algorithms"
   ]
  },
  {
   "cell_type": "code",
   "execution_count": null,
   "metadata": {},
   "outputs": [],
   "source": []
  }
 ],
 "metadata": {
  "kernelspec": {
   "display_name": "Python 3",
   "language": "python",
   "name": "python3"
  },
  "language_info": {
   "codemirror_mode": {
    "name": "ipython",
    "version": 3
   },
   "file_extension": ".py",
   "mimetype": "text/x-python",
   "name": "python",
   "nbconvert_exporter": "python",
   "pygments_lexer": "ipython3",
   "version": "3.7.4"
  },
  "pycharm": {
   "stem_cell": {
    "cell_type": "raw",
    "source": [],
    "metadata": {
     "collapsed": false
    }
   }
  }
 },
 "nbformat": 4,
 "nbformat_minor": 2
}