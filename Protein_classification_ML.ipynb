{
  "nbformat": 4,
  "nbformat_minor": 0,
  "metadata": {
    "kernelspec": {
      "name": "python3",
      "display_name": "Python 3"
    },
    "language_info": {
      "codemirror_mode": {
        "name": "ipython",
        "version": 3
      },
      "file_extension": ".py",
      "mimetype": "text/x-python",
      "name": "python",
      "nbconvert_exporter": "python",
      "pygments_lexer": "ipython3",
      "version": "3.7.4"
    },
    "colab": {
      "name": "Protein-classification-ML.ipynb",
      "provenance": [],
      "collapsed_sections": [],
      "toc_visible": true
    },
    "accelerator": "GPU"
  },
  "cells": [
    {
      "cell_type": "code",
      "metadata": {
        "id": "lACkWPFM2wM-",
        "colab_type": "code",
        "colab": {}
      },
      "source": [
        "import numpy as np\n",
        "import pandas as pd\n",
        "import seaborn as sns\n",
        "import matplotlib.pyplot as plt\n",
        "import itertools\n",
        "\n",
        "sns.set_style('whitegrid', {'axes.grid' : False})\n",
        "%matplotlib inline"
      ],
      "execution_count": 0,
      "outputs": []
    },
    {
      "cell_type": "code",
      "metadata": {
        "id": "crUGzW_b2-Iw",
        "colab_type": "code",
        "colab": {}
      },
      "source": [
        "# Mounting the drive in google colab account. \n",
        "import os\n",
        "from google.colab import drive\n",
        "drive.mount('/content/drive')"
      ],
      "execution_count": 0,
      "outputs": []
    },
    {
      "cell_type": "code",
      "metadata": {
        "id": "qSsiG6EH2-cz",
        "colab_type": "code",
        "colab": {}
      },
      "source": [
        "# Path to data in the drive\n",
        "path_to_data = 'drive/My Drive/Colab Notebooks'\n",
        "os.listdir(path_to_data)"
      ],
      "execution_count": 0,
      "outputs": []
    },
    {
      "cell_type": "code",
      "metadata": {
        "id": "sWQ7uh0QuyAe",
        "colab_type": "code",
        "colab": {}
      },
      "source": [
        "# Loading tidy datasets with features and target for machine learning models.\n",
        "data = pd.read_csv(os.path.join(path_to_data, 'protein_cls.csv'), index_col=0)"
      ],
      "execution_count": 0,
      "outputs": []
    },
    {
      "cell_type": "code",
      "metadata": {
        "id": "5lLnss1y2wOg",
        "colab_type": "code",
        "outputId": "289a2b03-bfa9-419e-d58d-17705ab9eef8",
        "colab": {
          "base_uri": "https://localhost:8080/",
          "height": 275
        }
      },
      "source": [
        "data.head()"
      ],
      "execution_count": 0,
      "outputs": [
        {
          "output_type": "execute_result",
          "data": {
            "text/html": [
              "<div>\n",
              "<style scoped>\n",
              "    .dataframe tbody tr th:only-of-type {\n",
              "        vertical-align: middle;\n",
              "    }\n",
              "\n",
              "    .dataframe tbody tr th {\n",
              "        vertical-align: top;\n",
              "    }\n",
              "\n",
              "    .dataframe thead th {\n",
              "        text-align: right;\n",
              "    }\n",
              "</style>\n",
              "<table border=\"1\" class=\"dataframe\">\n",
              "  <thead>\n",
              "    <tr style=\"text-align: right;\">\n",
              "      <th></th>\n",
              "      <th>structureId</th>\n",
              "      <th>classification</th>\n",
              "      <th>experimentalTechnique</th>\n",
              "      <th>residueCount</th>\n",
              "      <th>resolution</th>\n",
              "      <th>structureMolecularWeight</th>\n",
              "      <th>densityMatthews</th>\n",
              "      <th>densityPercentSol</th>\n",
              "      <th>phValue</th>\n",
              "      <th>sequence</th>\n",
              "      <th>label</th>\n",
              "      <th>lengths</th>\n",
              "    </tr>\n",
              "  </thead>\n",
              "  <tbody>\n",
              "    <tr>\n",
              "      <th>0</th>\n",
              "      <td>101M</td>\n",
              "      <td>oxygen transport</td>\n",
              "      <td>X-RAY DIFFRACTION</td>\n",
              "      <td>154</td>\n",
              "      <td>2.07</td>\n",
              "      <td>18112.80</td>\n",
              "      <td>3.09</td>\n",
              "      <td>60.20</td>\n",
              "      <td>9.0</td>\n",
              "      <td>MVLSEGEWQLVLHVWAKVEADVAGHGQDILIRLFKSHPETLEKFDR...</td>\n",
              "      <td>48</td>\n",
              "      <td>154</td>\n",
              "    </tr>\n",
              "    <tr>\n",
              "      <th>1</th>\n",
              "      <td>102L</td>\n",
              "      <td>hydrolase/o-glycosyl</td>\n",
              "      <td>X-RAY DIFFRACTION</td>\n",
              "      <td>165</td>\n",
              "      <td>1.74</td>\n",
              "      <td>18926.61</td>\n",
              "      <td>2.75</td>\n",
              "      <td>55.28</td>\n",
              "      <td>9.0</td>\n",
              "      <td>MNIFEMLRIDEGLRLKIYKDTEGYYTIGIGHLLTKSPSLNAAAKSE...</td>\n",
              "      <td>63</td>\n",
              "      <td>165</td>\n",
              "    </tr>\n",
              "    <tr>\n",
              "      <th>2</th>\n",
              "      <td>102M</td>\n",
              "      <td>oxygen transport</td>\n",
              "      <td>X-RAY DIFFRACTION</td>\n",
              "      <td>154</td>\n",
              "      <td>1.84</td>\n",
              "      <td>18010.64</td>\n",
              "      <td>3.09</td>\n",
              "      <td>60.20</td>\n",
              "      <td>9.0</td>\n",
              "      <td>MVLSEGEWQLVLHVWAKVEADVAGHGQDILIRLFKSHPETLEKFDR...</td>\n",
              "      <td>48</td>\n",
              "      <td>154</td>\n",
              "    </tr>\n",
              "    <tr>\n",
              "      <th>3</th>\n",
              "      <td>103L</td>\n",
              "      <td>hydrolase/o-glycosyl</td>\n",
              "      <td>X-RAY DIFFRACTION</td>\n",
              "      <td>167</td>\n",
              "      <td>1.90</td>\n",
              "      <td>19092.72</td>\n",
              "      <td>2.70</td>\n",
              "      <td>54.46</td>\n",
              "      <td>9.0</td>\n",
              "      <td>MNIFEMLRIDEGLRLKIYKDTEGYYTIGIGHLLTKSPSLNSLDAAK...</td>\n",
              "      <td>63</td>\n",
              "      <td>167</td>\n",
              "    </tr>\n",
              "    <tr>\n",
              "      <th>4</th>\n",
              "      <td>104L</td>\n",
              "      <td>hydrolase/o-glycosyl</td>\n",
              "      <td>X-RAY DIFFRACTION</td>\n",
              "      <td>332</td>\n",
              "      <td>2.80</td>\n",
              "      <td>37541.04</td>\n",
              "      <td>3.04</td>\n",
              "      <td>59.49</td>\n",
              "      <td>9.0</td>\n",
              "      <td>MNIFEMLRIDEGLRLKIYKDTEGYYTIGIGHLLTKSPSLNAAKSAA...</td>\n",
              "      <td>63</td>\n",
              "      <td>166</td>\n",
              "    </tr>\n",
              "  </tbody>\n",
              "</table>\n",
              "</div>"
            ],
            "text/plain": [
              "  structureId        classification  ... label  lengths\n",
              "0        101M      oxygen transport  ...    48      154\n",
              "1        102L  hydrolase/o-glycosyl  ...    63      165\n",
              "2        102M      oxygen transport  ...    48      154\n",
              "3        103L  hydrolase/o-glycosyl  ...    63      167\n",
              "4        104L  hydrolase/o-glycosyl  ...    63      166\n",
              "\n",
              "[5 rows x 12 columns]"
            ]
          },
          "metadata": {
            "tags": []
          },
          "execution_count": 5
        }
      ]
    },
    {
      "cell_type": "code",
      "metadata": {
        "id": "ddPRBGU6vErA",
        "colab_type": "code",
        "colab": {}
      },
      "source": [
        "data = data.dropna().reset_index().drop(columns='index', axis=1)"
      ],
      "execution_count": 0,
      "outputs": []
    },
    {
      "cell_type": "code",
      "metadata": {
        "id": "c8LVodHO2wOh",
        "colab_type": "code",
        "colab": {}
      },
      "source": [
        "data.isnull().sum()"
      ],
      "execution_count": 0,
      "outputs": []
    },
    {
      "cell_type": "code",
      "metadata": {
        "id": "wmvm4_yRxerq",
        "colab_type": "code",
        "outputId": "523b5933-2850-42c1-f6c4-d00361dd0142",
        "colab": {
          "base_uri": "https://localhost:8080/",
          "height": 306
        }
      },
      "source": [
        "data.info()"
      ],
      "execution_count": 0,
      "outputs": [
        {
          "output_type": "stream",
          "text": [
            "<class 'pandas.core.frame.DataFrame'>\n",
            "RangeIndex: 86877 entries, 0 to 86876\n",
            "Data columns (total 12 columns):\n",
            "structureId                 86877 non-null object\n",
            "classification              86877 non-null object\n",
            "experimentalTechnique       86877 non-null object\n",
            "residueCount                86877 non-null int64\n",
            "resolution                  86877 non-null float64\n",
            "structureMolecularWeight    86877 non-null float64\n",
            "densityMatthews             86877 non-null float64\n",
            "densityPercentSol           86877 non-null float64\n",
            "phValue                     86877 non-null float64\n",
            "sequence                    86877 non-null object\n",
            "label                       86877 non-null int64\n",
            "lengths                     86877 non-null int64\n",
            "dtypes: float64(5), int64(3), object(4)\n",
            "memory usage: 8.0+ MB\n"
          ],
          "name": "stdout"
        }
      ]
    },
    {
      "cell_type": "code",
      "metadata": {
        "scrolled": false,
        "id": "26wOMxqk2wOl",
        "colab_type": "code",
        "colab": {}
      },
      "source": [
        "# Plotting the pair distrihution among the features. \n",
        "plt.rcParams['font.size'] = 12\n",
        "sns.pairplot(data)\n",
        "plt.show()"
      ],
      "execution_count": 0,
      "outputs": []
    },
    {
      "cell_type": "code",
      "metadata": {
        "id": "CmYlfN-T2wOm",
        "colab_type": "code",
        "colab": {}
      },
      "source": [
        "# Distribution of sequences as Ph-values\n",
        "def set_phlevel(x):\n",
        "    if x > 7:\n",
        "        return 'Basic'\n",
        "    elif x < 7:\n",
        "        return 'Acidic'\n",
        "    else:\n",
        "        return 'Neutral'\n",
        "\n",
        "data['ph_level'] = data['phValue'].apply(set_phlevel)\n",
        "ph_level = data.groupby('ph_level')['ph_level'].count()"
      ],
      "execution_count": 0,
      "outputs": []
    },
    {
      "cell_type": "code",
      "metadata": {
        "id": "GImMrDM42wOo",
        "colab_type": "code",
        "outputId": "2c5bfcf5-020a-4ef1-bc85-b2af7d01792f",
        "colab": {
          "base_uri": "https://localhost:8080/",
          "height": 279
        }
      },
      "source": [
        "sizes = np.round((ph_level.values) / sum(ph_level.values), 2).tolist()\n",
        "labels = ph_level.index.tolist()\n",
        "plt.bar(x=labels, height=sizes)\n",
        "plt.xlabel('ph level')\n",
        "plt.ylabel('Frequency')\n",
        "plt.show()"
      ],
      "execution_count": 0,
      "outputs": [
        {
          "output_type": "display_data",
          "data": {
            "image/png": "[encoded data removed]",
            "text/plain": [
              "<Figure size 432x288 with 1 Axes>"
            ]
          },
          "metadata": {
            "tags": []
          }
        }
      ]
    },
    {
      "cell_type": "code",
      "metadata": {
        "id": "rEa0ZuO32wOq",
        "colab_type": "code",
        "outputId": "4d57c166-a598-4977-c9b9-83a1a848469f",
        "colab": {
          "base_uri": "https://localhost:8080/",
          "height": 276
        }
      },
      "source": [
        "# Plotting counts of protein sequences as a function of\n",
        "# Molecular weights.\n",
        "data.structureMolecularWeight.plot()\n",
        "plt.show()"
      ],
      "execution_count": 0,
      "outputs": [
        {
          "output_type": "display_data",
          "data": {
            "image/png": "[encoded data removed]",
            "text/plain": [
              "<Figure size 432x288 with 1 Axes>"
            ]
          },
          "metadata": {
            "tags": []
          }
        }
      ]
    },
    {
      "cell_type": "code",
      "metadata": {
        "id": "VV_8uy5Z2wOs",
        "colab_type": "code",
        "colab": {}
      },
      "source": [
        "# Relation between the densityMatthews and densityPercentSol\n",
        "plt.figure(figsize=(9,5))\n",
        "plt.scatter(x='densityMatthews', y='densityPercentSol', data=data, alpha=0.3)\n",
        "plt.xlabel('densityMatthews', fontsize=15)\n",
        "plt.ylabel('densityPercentSol', fontsize=15)\n",
        "plt.show()"
      ],
      "execution_count": 0,
      "outputs": []
    },
    {
      "cell_type": "code",
      "metadata": {
        "scrolled": true,
        "id": "xTAnCX8r2wOt",
        "colab_type": "code",
        "outputId": "341306aa-42be-4c28-8097-b8c2ac5f858c",
        "colab": {
          "base_uri": "https://localhost:8080/",
          "height": 402
        }
      },
      "source": [
        "# Correlation of features to target. \n",
        "corr_with_class = data.corr()['label']\n",
        "corr_with_class.drop('label').plot(kind='bar')"
      ],
      "execution_count": 0,
      "outputs": [
        {
          "output_type": "execute_result",
          "data": {
            "text/plain": [
              "<matplotlib.axes._subplots.AxesSubplot at 0x7fb1da35e518>"
            ]
          },
          "metadata": {
            "tags": []
          },
          "execution_count": 14
        },
        {
          "output_type": "display_data",
          "data": {
            "image/png": "[encoded data removed]",
            "text/plain": [
              "<Figure size 432x288 with 1 Axes>"
            ]
          },
          "metadata": {
            "tags": []
          }
        }
      ]
    },
    {
      "cell_type": "markdown",
      "metadata": {
        "id": "qzvHwUl52wOv",
        "colab_type": "text"
      },
      "source": [
        "## Building a single train test model"
      ]
    },
    {
      "cell_type": "code",
      "metadata": {
        "id": "x5S87LAO2wOv",
        "colab_type": "code",
        "colab": {}
      },
      "source": [
        "from sklearn.model_selection import train_test_split\n",
        "from sklearn.preprocessing import StandardScaler\n",
        "from sklearn.metrics import confusion_matrix, \\\n",
        "                classification_report, accuracy_score\n",
        "\n",
        "from sklearn.tree import DecisionTreeClassifier\n",
        "from sklearn.ensemble import GradientBoostingClassifier\n",
        "from sklearn.naive_bayes import GaussianNB, MultinomialNB\n",
        "from sklearn.svm import LinearSVC\n",
        "from sklearn.neighbors import KNeighborsClassifier\n",
        "from sklearn.ensemble import RandomForestClassifier\n",
        "from sklearn.linear_model import LogisticRegression\n",
        "from sklearn.multiclass import OneVsRestClassifier\n",
        "\n",
        "from sklearn.model_selection import cross_val_score, KFold\n",
        "from sklearn.model_selection import GridSearchCV, RandomizedSearchCV\n"
      ],
      "execution_count": 0,
      "outputs": []
    },
    {
      "cell_type": "code",
      "metadata": {
        "id": "EA-EJRrqzIg3",
        "colab_type": "code",
        "outputId": "0854c0c4-e637-46ca-e034-cab803b6bbe1",
        "colab": {
          "base_uri": "https://localhost:8080/",
          "height": 34
        }
      },
      "source": [
        "# Creating the dictionary of class and sequence counts\n",
        "classes = data.classification.value_counts()\n",
        "class_d = dict()\n",
        "counting = 1\n",
        "\n",
        "for cat, num in classes.items():\n",
        "    if num > 1200: # Filtering the classes for classification purpose.\n",
        "        class_d[cat] = counting\n",
        "    counting += 1\n",
        "len(class_d) "
      ],
      "execution_count": 0,
      "outputs": [
        {
          "output_type": "execute_result",
          "data": {
            "text/plain": [
              "15"
            ]
          },
          "metadata": {
            "tags": []
          },
          "execution_count": 17
        }
      ]
    },
    {
      "cell_type": "code",
      "metadata": {
        "id": "0uobf5BEzW-M",
        "colab_type": "code",
        "colab": {}
      },
      "source": [
        "\n",
        "data = data[data['classification'].isin(class_d.keys())]"
      ],
      "execution_count": 0,
      "outputs": []
    },
    {
      "cell_type": "code",
      "metadata": {
        "id": "oiSh8ctJ2wOx",
        "colab_type": "code",
        "colab": {}
      },
      "source": [
        "# Separating the features and target. \n",
        "X = data.drop(['label', 'ph_level', 'structureId', 'classification', 'experimentalTechnique', 'sequence'], axis=1)\n",
        "y = data['label']"
      ],
      "execution_count": 0,
      "outputs": []
    },
    {
      "cell_type": "markdown",
      "metadata": {
        "id": "yxWlVelh2wOy",
        "colab_type": "text"
      },
      "source": [
        "#### Scaling with standard scaler"
      ]
    },
    {
      "cell_type": "code",
      "metadata": {
        "id": "T8w4K7As2wOz",
        "colab_type": "code",
        "colab": {}
      },
      "source": [
        "# Features are normalized with mean 0 and standard deviation 1\n",
        "scaler = StandardScaler().fit(X)\n",
        "X_norm = scaler.transform(X)\n",
        "X_scaled = pd.DataFrame(X_norm, columns=X.columns)"
      ],
      "execution_count": 0,
      "outputs": []
    },
    {
      "cell_type": "markdown",
      "metadata": {
        "id": "Z_Tfgk2p2wOz",
        "colab_type": "text"
      },
      "source": [
        "#### Train-Test splitting"
      ]
    },
    {
      "cell_type": "code",
      "metadata": {
        "id": "zPrGOzXR2wO0",
        "colab_type": "code",
        "colab": {}
      },
      "source": [
        "X_train, X_test, y_train, y_test = \\\n",
        "    train_test_split(X_scaled,\n",
        "                     y, test_size=0.3,\n",
        "                     random_state=22)\n",
        "\n",
        "Xt_train, Xt_test, yt_train, yt_test = \\\n",
        "    train_test_split(X, y,\n",
        "                     test_size=0.3,\n",
        "                     random_state=43)"
      ],
      "execution_count": 0,
      "outputs": []
    },
    {
      "cell_type": "markdown",
      "metadata": {
        "id": "WqWxofeO2wO1",
        "colab_type": "text"
      },
      "source": [
        "### Random Forest Model"
      ]
    },
    {
      "cell_type": "code",
      "metadata": {
        "id": "vGHR1Hod2wO1",
        "colab_type": "code",
        "outputId": "f4f01519-6a32-4d66-8dd1-a4c789864ca4",
        "colab": {
          "base_uri": "https://localhost:8080/",
          "height": 85
        }
      },
      "source": [
        "# Random forest model:\n",
        "rf = RandomForestClassifier(n_estimators=100,\n",
        "                            min_samples_leaf=3,\n",
        "                            max_features=3, n_jobs=-1)\n",
        "\n",
        "rf.fit(X_train, y_train)\n",
        "predictions = rf.predict(X_test)\n",
        "print(classification_report(y_test, prediction))\n",
        "print('Accuracy: ',accuracy_score(y_test, predictions), '\\n')\n",
        "print('# of mis_classified: %d out of total: %d'\n",
        "      %((y_test != predictions).sum(),\n",
        "        X_test.shape[0]))\n",
        "print('# of good_classified: ', (y_test == predictions).sum())\n",
        "\n",
        "feat_importances = pd.Series(rf.feature_importances_,\n",
        "                             index=X_train.columns)"
      ],
      "execution_count": 0,
      "outputs": [
        {
          "output_type": "stream",
          "text": [
            "Accuracy:  0.4026641883519207 \n",
            "\n",
            "# of mis_classified: 9641 out of total: 16140\n",
            "# of good_classified:  6499\n"
          ],
          "name": "stdout"
        }
      ]
    },
    {
      "cell_type": "code",
      "metadata": {
        "id": "cFRpMh0V2wO2",
        "colab_type": "code",
        "outputId": "3c5356b0-911c-4928-cce1-f6c6a0377b05",
        "colab": {
          "base_uri": "https://localhost:8080/",
          "height": 297
        }
      },
      "source": [
        "fig, ax = plt.subplots(figsize=(8, 4))\n",
        "feat_importances.nlargest(15).plot(kind='barh', ax=ax, fontsize=12)\n",
        "plt.title('Feature Importances for RandomForestRegressor', fontsize=16)\n",
        "plt.tight_layout()\n",
        "plt.savefig(os.path.join(path_to_data, 'Random_forest_feature_Importance.pdf'))"
      ],
      "execution_count": 0,
      "outputs": [
        {
          "output_type": "display_data",
          "data": {
            "image/png": "[encoded data removed]",
            "text/plain": [
              "<Figure size 576x288 with 1 Axes>"
            ]
          },
          "metadata": {
            "tags": []
          }
        }
      ]
    },
    {
      "cell_type": "code",
      "metadata": {
        "id": "BZGlo1yK2wO4",
        "colab_type": "code",
        "colab": {}
      },
      "source": [
        "# Tuning Hyperparameters:\n",
        "param_grids = [{'n_estimators' : [20, 40, 100],\n",
        "                'max_features' : [3, 4, 5]}]\n",
        "kfold = KFold(n_splits=5, random_state=22, shuffle=True)\n",
        "rfCv = GridSearchCV(rf, param_grids, cv=kfold, verbose=1)\n",
        "\n",
        "rfCv.fit(X_train, y_train)\n",
        "\n",
        "print('Train Accuracy:', rfCv.best_score_)\n",
        "print('Best Paramters:', rfCv.best_params_)\n",
        "print('Bset estimator:', rfCv.best_estimator_)\n",
        "\n",
        "predictions = rfCv.predict(X_test)\n",
        "print(\"Test Accuracy :\",accuracy_score(y_test, predictions),'\\n')"
      ],
      "execution_count": 0,
      "outputs": []
    },
    {
      "cell_type": "code",
      "metadata": {
        "id": "z8KHtSC-_GUO",
        "colab_type": "code",
        "colab": {}
      },
      "source": [
        "def plot_confusion_matrix(cm, classes,\n",
        "                          normalize=True,\n",
        "                          title='Confusion matrix',\n",
        "                          cmap=plt.cm.Blues, coding=False):\n",
        "  '''This function plots the confusion matrix'''\n",
        "    if normalize:\n",
        "        cm = cm.astype('float') / cm.sum(axis=1)[:, np.newaxis]\n",
        "    \n",
        "    plt.imshow(cm, interpolation='nearest', cmap=cmap)\n",
        "    plt.title(title, fontsize=24)\n",
        "    tick_marks = np.arange(len(classes))\n",
        "    plt.xticks(tick_marks, classes, rotation=90, fontsize=12)\n",
        "    plt.yticks(tick_marks, classes, fontsize=12)\n",
        "    \n",
        "    if coding:\n",
        "      fmt = '.2f' if normalize else 'd'\n",
        "      thresh = cm.max() / 2\n",
        "      for i , j in itertools.product(range(cm.shape[0]),\n",
        "                                     range(cm.shape[1])):\n",
        "          plt.text(j, i, format(cm[i, j], fmt),\n",
        "                   color='white' if cm[i, j] >= thresh else 'black')\n",
        "    plt.ylabel('True label', fontsize=12)\n",
        "    plt.xlabel('Predicted label', fontsize=12)\n",
        "    plt.xlim(tick_marks[0]-0.5, tick_marks[len(classes)-1]+0.5)\n",
        "    plt.ylim(tick_marks[0]-0.5, tick_marks[len(classes)-1]+0.5)"
      ],
      "execution_count": 0,
      "outputs": []
    },
    {
      "cell_type": "code",
      "metadata": {
        "id": "UcsP8bXR5xgJ",
        "colab_type": "code",
        "outputId": "92c4196f-a52d-46f8-c639-7cb51e74acb7",
        "colab": {
          "base_uri": "https://localhost:8080/",
          "height": 855
        }
      },
      "source": [
        "# Plotting the confusion matrix for classification:\n",
        "plt.figure(figsize=(10, 10))\n",
        "cm = confusion_matrix(y_test, predictions)\n",
        "plot_confusion_matrix(cm, class_d)\n",
        "plt.savefig(os.path.join(path_to_data, 'random_forest_confusion_matrix.pdf'))"
      ],
      "execution_count": 0,
      "outputs": [
        {
          "output_type": "display_data",
          "data": {
            "image/png": "[encoded data removed]",
            "text/plain": [
              "<Figure size 720x720 with 1 Axes>"
            ]
          },
          "metadata": {
            "tags": []
          }
        }
      ]
    },
    {
      "cell_type": "markdown",
      "metadata": {
        "id": "nM-2Eo_O2wO5",
        "colab_type": "text"
      },
      "source": [
        "### Decision Tree Model:"
      ]
    },
    {
      "cell_type": "code",
      "metadata": {
        "id": "hT9RCP3L2wO6",
        "colab_type": "code",
        "colab": {}
      },
      "source": [
        "dtree = DecisionTreeClassifier(max_depth=100,\n",
        "                               min_samples_leaf=1)\n",
        "dtree.fit(X_train, y_train)\n",
        "\n",
        "predictions = dtree.predict(X_test)\n",
        "print(classification_report(y_test, predictions))\n",
        "print('Accuracy: ', round(accuracy_score(y_test, predictions),2))"
      ],
      "execution_count": 0,
      "outputs": []
    },
    {
      "cell_type": "code",
      "metadata": {
        "id": "5wB8ciRr2wO8",
        "colab_type": "code",
        "colab": {}
      },
      "source": [
        "# Hyperparameter tuning: \n",
        "param_grid = [{'max_depth' : [5, 10, 100],\n",
        "               'min_samples_leaf' : [1, 5, 10]}]\n",
        "kfold = KFold(n_splits=5, random_state=42, shuffle=True)\n",
        "dtreeCv = GridSearchCV(dtree, param_grid, cv=kfold)\n",
        "dtreeCv.fit(X_train, y_train)\n",
        "print('Train Accuracy: ', dtreeCv.best_score_)\n",
        "print('Best Parameters: ', dtreeCv.best_params_)\n",
        "print('Best Estimators: ', dtreeCv.best_estimator_)\n",
        "\n",
        "predictions = dtreeCv.predict(X_test)\n",
        "print('Test Accuracy: ', accuracy_score(y_test, predictions))"
      ],
      "execution_count": 0,
      "outputs": []
    },
    {
      "cell_type": "code",
      "metadata": {
        "id": "sYw-w-FdFW5z",
        "colab_type": "code",
        "outputId": "246fa16a-d0fd-4a50-e0fb-2bd2b5e67289",
        "colab": {
          "base_uri": "https://localhost:8080/",
          "height": 855
        }
      },
      "source": [
        "cm = confusion_matrix(y_test, predictions)\n",
        "plt.figure(figsize=(10, 10))\n",
        "plot_confusion_matrix(cm, class_d)"
      ],
      "execution_count": 0,
      "outputs": [
        {
          "output_type": "display_data",
          "data": {
            "image/png": "[encoded data removed]",
            "text/plain": [
              "<Figure size 720x720 with 1 Axes>"
            ]
          },
          "metadata": {
            "tags": []
          }
        }
      ]
    },
    {
      "cell_type": "markdown",
      "metadata": {
        "id": "VYHu9-uw2wO9",
        "colab_type": "text"
      },
      "source": [
        "### Gradient Boosting"
      ]
    },
    {
      "cell_type": "code",
      "metadata": {
        "scrolled": false,
        "id": "KpqRiLzO2wO9",
        "colab_type": "code",
        "colab": {}
      },
      "source": [
        "gb = GradientBoostingClassifier(n_estimators=5,\n",
        "                                learning_rate=0.01,\n",
        "                                max_depth=3, verbose=2)\n",
        "gb.fit(X_train, y_train)\n",
        "predictions = gb.predict(X_test)\n",
        "# print(classification_report(y_test, predictions))\n",
        "print('Accuracy: ', accuracy_score(y_test, predictions))"
      ],
      "execution_count": 0,
      "outputs": []
    },
    {
      "cell_type": "code",
      "metadata": {
        "id": "6LtaxYLD2wO-",
        "colab_type": "code",
        "colab": {}
      },
      "source": [
        "# Hyperparameter Tuning:\n",
        "param_grid = [{'learning_rate' : [0.001, 0.01, 0.1],\n",
        "               'max_depth' : [2,3,4,5],\n",
        "               'n_estimators': [20, 50, 100]}]\n",
        "kfold = KFold(n_splits=5, random_state=42, shuffle=True)\n",
        "gbCv = RandomizedSearchCV(gb, param_grid, cv=kfold)\n",
        "gbCv.fit(X_train, y_train)\n",
        "\n",
        "print('Train Accuracy: ', gbCv.best_score_)\n",
        "print(gbCv.best_params_)\n",
        "print(gbCv.best_estimators_)\n",
        "\n",
        "predictions = gbCv.predict(X_test)\n",
        "print('Test Accuracy: ', accuracy_score(y_test, predictions))"
      ],
      "execution_count": 0,
      "outputs": []
    },
    {
      "cell_type": "markdown",
      "metadata": {
        "id": "XDTQPZii2wO_",
        "colab_type": "text"
      },
      "source": [
        "### Naive Bayes (Gaussian)"
      ]
    },
    {
      "cell_type": "code",
      "metadata": {
        "id": "wMHBZlvW2wPA",
        "colab_type": "code",
        "outputId": "e15260b9-7c70-4311-bc75-19ed431b47c7",
        "colab": {
          "base_uri": "https://localhost:8080/",
          "height": 34
        }
      },
      "source": [
        "gnb = GaussianNB()\n",
        "gnb.fit(X_train, y_train)\n",
        "predictions = gnb.predict(X_test)\n",
        "#print(classification_report(y_test, predictions))\n",
        "print('Accuracy: ', accuracy_score(y_test, predictions))"
      ],
      "execution_count": 0,
      "outputs": [
        {
          "output_type": "stream",
          "text": [
            "Accuracy:  0.1214993804213135\n"
          ],
          "name": "stdout"
        }
      ]
    },
    {
      "cell_type": "code",
      "metadata": {
        "id": "UhPSED_w2wPB",
        "colab_type": "code",
        "colab": {}
      },
      "source": [
        "# Validation:\n",
        "kfold = KFold(n_splits=10, random_state=42, shuffle=True)\n",
        "scores = cross_val_score(gnb, X_train, y_train, cv=kfold)\n",
        "\n",
        "print(scores)\n",
        "print(scores.mean())"
      ],
      "execution_count": 0,
      "outputs": []
    },
    {
      "cell_type": "markdown",
      "metadata": {
        "id": "R2sJYhEK2wPC",
        "colab_type": "text"
      },
      "source": [
        "### Multinomial Naive Bayes [Does not work with negative inputs]"
      ]
    },
    {
      "cell_type": "code",
      "metadata": {
        "id": "s-x5B10t2wPD",
        "colab_type": "code",
        "outputId": "3f7d29a6-8185-47a0-e8ef-33dcffa7c226",
        "colab": {
          "base_uri": "https://localhost:8080/",
          "height": 51
        }
      },
      "source": [
        "# Multinomial Naive Bayes does not work with negative\n",
        "# inputs therefore we used the unscaled data for this \n",
        "# model\n",
        "\n",
        "mnb = MultinomialNB()\n",
        "mnb.fit(Xt_train, yt_train)\n",
        "predictions = mnb.predict(Xt_test)\n",
        "\n",
        "#print(classification_report(y_test, predictions))\n",
        "print('Accuracy: ', accuracy_score(yt_test, predictions), '\\n')"
      ],
      "execution_count": 0,
      "outputs": [
        {
          "output_type": "stream",
          "text": [
            "Accuracy:  0.0915737298636927 \n",
            "\n"
          ],
          "name": "stdout"
        }
      ]
    },
    {
      "cell_type": "code",
      "metadata": {
        "id": "pEaBz60o2wPE",
        "colab_type": "code",
        "colab": {}
      },
      "source": [
        "# KFold cross validation:\n",
        "kfold = KFold(n_splits=5, random_state=42, shuffle=True)\n",
        "scores = cross_val_score(mnb, Xt_train, yt_train, cv=kfold)\n",
        "\n",
        "print(scores)\n",
        "print('\\n', 'Mean: ', scores.mean())"
      ],
      "execution_count": 0,
      "outputs": []
    },
    {
      "cell_type": "markdown",
      "metadata": {
        "id": "Zfcwl1OF2wPF",
        "colab_type": "text"
      },
      "source": [
        "### Support Vector Machine"
      ]
    },
    {
      "cell_type": "code",
      "metadata": {
        "id": "dOh0wJGL2wPG",
        "colab_type": "code",
        "colab": {}
      },
      "source": [
        "# The normalized \n",
        "Xv_train, Xv_test, yv_train, yv_test = \\\n",
        "    train_test_split(X_norm, y, test_size=0.3, random_state=44)"
      ],
      "execution_count": 0,
      "outputs": []
    },
    {
      "cell_type": "code",
      "metadata": {
        "id": "fB_Iju10j92M",
        "colab_type": "code",
        "outputId": "6a415ac5-7b31-400b-8045-0088155962fb",
        "colab": {
          "base_uri": "https://localhost:8080/",
          "height": 88
        }
      },
      "source": [
        "clf = LinearSVC(max_iter=20000, verbose=1)\n",
        "clf.fit(Xv_train, yv_train)\n",
        "predictions = clf.predict(Xv_test)\n",
        "# print(classification_report(y_test, predictions))\n",
        "print('Accuracy: ', accuracy_score(yv_test, predictions))"
      ],
      "execution_count": 0,
      "outputs": [
        {
          "output_type": "stream",
          "text": [
            "[LibLinear]Accuracy:  0.23048327137546468\n"
          ],
          "name": "stdout"
        },
        {
          "output_type": "stream",
          "text": [
            "/usr/local/lib/python3.6/dist-packages/sklearn/svm/_base.py:947: ConvergenceWarning: Liblinear failed to converge, increase the number of iterations.\n",
            "  \"the number of iterations.\", ConvergenceWarning)\n"
          ],
          "name": "stderr"
        }
      ]
    },
    {
      "cell_type": "code",
      "metadata": {
        "scrolled": false,
        "id": "WpHs-GxN2wPI",
        "colab_type": "code",
        "colab": {}
      },
      "source": [
        "param_grid = [{'C' : [1, 10],\n",
        "               'dual' : [True, False]}]\n",
        "kfold = KFold(n_splits=5, random_state=33, shuffle=True)\n",
        "clfCv = GridSearchCV(clf, param_grid, cv=kfold)\n",
        "clfCv.fit(Xv_train, yv_train)\n",
        "\n",
        "print('Train Accuracy: ', clfCv.best_score_)\n",
        "print('Best Parameters: ', clfCv.best_params_)\n",
        "print('Best Estimators: ', clfCv.best_estimator_)\n",
        "\n",
        "predictions = clfCv.predict(Xv_test)\n",
        "print('Test Accuracy: ', accuracy_score(yv_test, predictions))"
      ],
      "execution_count": 0,
      "outputs": []
    },
    {
      "cell_type": "markdown",
      "metadata": {
        "id": "AnrVq62Q2wPK",
        "colab_type": "text"
      },
      "source": [
        "## K Nearest Neighbors"
      ]
    },
    {
      "cell_type": "code",
      "metadata": {
        "id": "v0pTVnp52wPK",
        "colab_type": "code",
        "outputId": "3cbf9965-942e-4e17-bf6e-73e960c8256f",
        "colab": {
          "base_uri": "https://localhost:8080/",
          "height": 34
        }
      },
      "source": [
        "knn = KNeighborsClassifier(n_neighbors=3)\n",
        "knn.fit(X_train, y_train)\n",
        "predictions = knn.predict(X_test)\n",
        "#print(classification_report(y_test, predictions))\n",
        "print('Accuracy: ', accuracy_score(y_test, predictions))"
      ],
      "execution_count": 0,
      "outputs": [
        {
          "output_type": "stream",
          "text": [
            "Accuracy:  0.29510532837670383\n"
          ],
          "name": "stdout"
        }
      ]
    },
    {
      "cell_type": "code",
      "metadata": {
        "id": "wrqf_sb92wPM",
        "colab_type": "code",
        "outputId": "4872e55c-d0ab-4ca8-cc85-0e9afd30c0a5",
        "colab": {
          "base_uri": "https://localhost:8080/",
          "height": 119
        }
      },
      "source": [
        "param_grid = [{'n_neighbors' : [3, 5, 10],\n",
        "               'weights' : ['uniform', 'distance']}]\n",
        "kfold = KFold(n_splits=5, random_state=22, shuffle=True)\n",
        "knnCv = GridSearchCV(knn, param_grid, cv=kfold)\n",
        "knnCv.fit(X_train, y_train)\n",
        "\n",
        "print('Train Accuracy: ', knnCv.best_score_)\n",
        "print('Best Parameters: ', knnCv.best_params_)\n",
        "print('Best Estimator: ', knnCv.best_estimator_)\n",
        "\n",
        "predictions = knnCv.predict(X_test)\n",
        "print('Test Accuracy: ', accuracy_score(y_test, predictions))"
      ],
      "execution_count": 0,
      "outputs": [
        {
          "output_type": "stream",
          "text": [
            "Train Accuracy:  0.31697588716858266\n",
            "Best Parameters:  {'n_neighbors': 10, 'weights': 'distance'}\n",
            "Best Estimator:  KNeighborsClassifier(algorithm='auto', leaf_size=30, metric='minkowski',\n",
            "                     metric_params=None, n_jobs=None, n_neighbors=10, p=2,\n",
            "                     weights='distance')\n",
            "Test Accuracy:  0.3224907063197026\n"
          ],
          "name": "stdout"
        }
      ]
    },
    {
      "cell_type": "markdown",
      "metadata": {
        "id": "gffAzt-s2wPQ",
        "colab_type": "text"
      },
      "source": [
        "## Accuracy: \n",
        "            Random Forest = 0.40\n",
        "            Decision Tree = 0.3\n",
        "       Gradient Boosting = 0.22\n",
        "     Gaussian Naive Bayes = 0.12\n",
        "     Multinomial Naive Bayes = 0.09\n",
        "                      SVM = 0.15\n",
        "                      KNN = 0.32\n",
        "          \n",
        "    "
      ]
    },
    {
      "cell_type": "markdown",
      "metadata": {
        "id": "Egr-4lfa2wPQ",
        "colab_type": "text"
      },
      "source": [
        "#### Therefore, Random Forest (RF) model performs better than other ML models with available samples and features. "
      ]
    }
  ]
}